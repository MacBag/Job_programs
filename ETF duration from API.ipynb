{
 "cells": [
  {
   "cell_type": "markdown",
   "metadata": {},
   "source": [
    "### PODŁĄCZENIE DO API"
   ]
  },
  {
   "cell_type": "code",
   "execution_count": 1,
   "metadata": {},
   "outputs": [],
   "source": [
    "from __future__ import unicode_literals\n",
    "import requests\n",
    "from requests.auth import AuthBase\n",
    "import datetime\n",
    "from datetime import timedelta\n",
    "import pyodbc"
   ]
  },
  {
   "cell_type": "code",
   "execution_count": 2,
   "metadata": {},
   "outputs": [],
   "source": [
    "def set_day():\n",
    "    today = datetime.date.today()\n",
    "    weekend = set([5,6])\n",
    "    yesterday = today - timedelta(days=1)\n",
    "    if yesterday.weekday() not in weekend:\n",
    "        yesterdays = today - timedelta(days=1)\n",
    "        date = yesterdays.strftime('%Y-%m-%d')\n",
    "    elif yesterday.weekday() == 5:\n",
    "        yesterdays = today - timedelta(days=3)\n",
    "        date = yesterdays.strftime('%Y-%m-%d')\n",
    "    elif yesterday.weekday() == 6:\n",
    "        yesterdays = today - timedelta(days=3)\n",
    "        date = yesterdays.strftime('%Y-%m-%d')\n",
    "\n",
    "\n",
    "    ereyesterday = today - timedelta(days=2)\n",
    "    if ereyesterday.weekday() not in weekend:\n",
    "        ereyesterdays = today - timedelta(days=2)\n",
    "        ere = ereyesterdays.strftime('%Y-%m-%d')\n",
    "    elif ereyesterday.weekday() == 5:\n",
    "        ereyesterdays = today - timedelta(days=4)\n",
    "        ere = ereyesterdays.strftime('%Y-%m-%d')\n",
    "    elif ereyesterday.weekday() == 6:\n",
    "        ereyesterdays = today - timedelta(days=4)\n",
    "        ere = ereyesterdays.strftime('%Y-%m-%d')\n",
    "    return date,ere,today\n",
    "\n",
    "    twodayago = today - timedelta(days=3)\n",
    "    twodays = twodayago.strftime('%Y-%m-%d')\n",
    "\n",
    "    \n",
    "date, ere, today = set_day()"
   ]
  },
  {
   "cell_type": "code",
   "execution_count": 3,
   "metadata": {},
   "outputs": [
    {
     "name": "stdout",
     "output_type": "stream",
     "text": [
      "date: 2021-04-23 ere: 2021-04-22 today: 2021-04-26\n"
     ]
    }
   ],
   "source": [
    "print(\"date:\", date, \"ere:\", ere, \"today:\", today )"
   ]
  },
  {
   "cell_type": "code",
   "execution_count": 4,
   "metadata": {},
   "outputs": [],
   "source": [
    "class OAuth2(requests.auth.AuthBase):\n",
    "    def __init__(self, user, signature):\n",
    "        self.signature=signature\n",
    "        self.user=user\n",
    "    def __call__(self, r: requests.Request):\n",
    "        r.headers[\"x-signature\"] = self.signature\n",
    "        r.headers['Accept'] = 'application/json'\n",
    "        r.headers['Content-Type'] = 'application/json'\n",
    "        print(r.headers)\n",
    "        return r"
   ]
  },
  {
   "cell_type": "markdown",
   "metadata": {},
   "source": [
    "### PODŁĄCZENIE DO SQL"
   ]
  },
  {
   "cell_type": "code",
   "execution_count": 5,
   "metadata": {},
   "outputs": [],
   "source": [
    "connection = pyodbc.connect('DRIVER={ODBC Driver 17 for SQL Server};SERVER=xxx;DATABASE=xxx;UID=xxx;PWD=xxx')\n",
    "cursor = connection.cursor()\n"
   ]
  },
  {
   "cell_type": "markdown",
   "metadata": {},
   "source": [
    "### WYBRANIE DANYCH Z SQL DO JSON"
   ]
  },
  {
   "cell_type": "code",
   "execution_count": 6,
   "metadata": {},
   "outputs": [],
   "source": [
    "def get_instruments():\n",
    "    l = []\n",
    "    cursor.execute(\"\"\"SELECT distinct p.isin FROM TAM_STAN_PORTFELA p \n",
    "    left join Tam_Instrument i on i.Isin=p.Isin WHERE TYP = 'Tytuly uczestnictwa zagranicznego' \n",
    "    AND DATA_ANALIZY =? and p.Isin like 'IE%' and p.isin not in ('IE00B4613386') and \n",
    "    (i.Nazwa like '%BOND%' or i.Nazwa like '%CORP%' or i.Nazwa like '%GOVER%' or i.Nazwa like '%TIPS%' or i.Nazwa like '%Treasur%')\"\"\", ere)\n",
    "    for row in cursor:\n",
    "        instruments = row[0]\n",
    "        l.append(instruments)\n",
    "    return l"
   ]
  },
  {
   "cell_type": "code",
   "execution_count": 7,
   "metadata": {},
   "outputs": [
    {
     "data": {
      "text/plain": [
       "['IE00B66F4759']"
      ]
     },
     "execution_count": 7,
     "metadata": {},
     "output_type": "execute_result"
    }
   ],
   "source": [
    "get_instruments()"
   ]
  },
  {
   "cell_type": "code",
   "execution_count": 8,
   "metadata": {},
   "outputs": [],
   "source": [
    "def create_json():\n",
    "    column_names=(\"instrumentIdentifierName\",\"instrumentIdentifierValue\",\"exchangeIdentifierName\",\"exchangeIdentifierValue\",\"dataSource\")\n",
    "    json_response=[]\n",
    "    for i in get_instruments():\n",
    "         \n",
    "            json_element={}\n",
    "            json_element[column_names[0]]=\"isin\"\n",
    "            json_element[column_names[1]]=i\n",
    "            json_element[column_names[2]]=\"MIC\"\n",
    "            json_element[column_names[3]]=\"XEUR\"\n",
    "            json_element[column_names[4]]=\"ISHARES\"\n",
    "            json_response.append(json_element)\n",
    "    return json_response"
   ]
  },
  {
   "cell_type": "code",
   "execution_count": 9,
   "metadata": {},
   "outputs": [
    {
     "name": "stdout",
     "output_type": "stream",
     "text": [
      "[\n",
      "     {\n",
      "          \"instrumentIdentifierName\": \"isin\",\n",
      "          \"instrumentIdentifierValue\": \"IE00B66F4759\",\n",
      "          \"exchangeIdentifierName\": \"MIC\",\n",
      "          \"exchangeIdentifierValue\": \"XEUR\",\n",
      "          \"dataSource\": \"ISHARES\"\n",
      "     }\n",
      "]\n"
     ]
    }
   ],
   "source": [
    " print(json.dumps(create_json(), indent=5))"
   ]
  },
  {
   "cell_type": "markdown",
   "metadata": {},
   "source": [
    "### Pobranie danych z API"
   ]
  },
  {
   "cell_type": "code",
   "execution_count": 1,
   "metadata": {},
   "outputs": [
    {
     "ename": "NameError",
     "evalue": "name 'requests' is not defined",
     "output_type": "error",
     "traceback": [
      "\u001b[1;31m---------------------------------------------------------------------------\u001b[0m",
      "\u001b[1;31mNameError\u001b[0m                                 Traceback (most recent call last)",
      "\u001b[1;32m<ipython-input-1-2429089cb62c>\u001b[0m in \u001b[0;36m<module>\u001b[1;34m\u001b[0m\n\u001b[0;32m      2\u001b[0m \u001b[1;32mtry\u001b[0m\u001b[1;33m:\u001b[0m\u001b[1;33m\u001b[0m\u001b[1;33m\u001b[0m\u001b[0m\n\u001b[1;32m----> 3\u001b[1;33m     response_dur = requests.post(url, auth=OAuth2('xxx/xxx==',\n\u001b[0m\u001b[0;32m      4\u001b[0m                                                   'xxx'), json={\"requests\": create_json()}, timeout=None)\n",
      "\u001b[1;31mNameError\u001b[0m: name 'requests' is not defined",
      "\nDuring handling of the above exception, another exception occurred:\n",
      "\u001b[1;31mNameError\u001b[0m                                 Traceback (most recent call last)",
      "\u001b[1;32m<ipython-input-1-2429089cb62c>\u001b[0m in \u001b[0;36m<module>\u001b[1;34m\u001b[0m\n\u001b[0;32m      4\u001b[0m                                                   'xxx'), json={\"requests\": create_json()}, timeout=None)\n\u001b[0;32m      5\u001b[0m \u001b[1;33m\u001b[0m\u001b[0m\n\u001b[1;32m----> 6\u001b[1;33m \u001b[1;32mexcept\u001b[0m \u001b[0mrequests\u001b[0m\u001b[1;33m.\u001b[0m\u001b[0mexceptions\u001b[0m\u001b[1;33m.\u001b[0m\u001b[0mHTTPError\u001b[0m \u001b[1;32mas\u001b[0m \u001b[0merrh\u001b[0m\u001b[1;33m:\u001b[0m\u001b[1;33m\u001b[0m\u001b[1;33m\u001b[0m\u001b[0m\n\u001b[0m\u001b[0;32m      7\u001b[0m     \u001b[0mprint\u001b[0m\u001b[1;33m(\u001b[0m\u001b[1;34m\"Http Error:\"\u001b[0m\u001b[1;33m,\u001b[0m \u001b[0merrh\u001b[0m\u001b[1;33m)\u001b[0m\u001b[1;33m\u001b[0m\u001b[1;33m\u001b[0m\u001b[0m\n\u001b[0;32m      8\u001b[0m \u001b[1;32mexcept\u001b[0m \u001b[0mrequests\u001b[0m\u001b[1;33m.\u001b[0m\u001b[0mexceptions\u001b[0m\u001b[1;33m.\u001b[0m\u001b[0mConnectionError\u001b[0m \u001b[1;32mas\u001b[0m \u001b[0merrc\u001b[0m\u001b[1;33m:\u001b[0m\u001b[1;33m\u001b[0m\u001b[1;33m\u001b[0m\u001b[0m\n",
      "\u001b[1;31mNameError\u001b[0m: name 'requests' is not defined"
     ]
    }
   ],
   "source": [
    "url = 'https://xxx/api/v1/storage/duration/last?apiKey=xxx'\n",
    "try:\n",
    "    response_dur = requests.post(url, auth=OAuth2('xxx/xxx==',\n",
    "                                                  'xxx'), json={\"requests\": create_json()}, timeout=None)\n",
    "\n",
    "except requests.exceptions.HTTPError as errh:\n",
    "    print(\"Http Error:\", errh)\n",
    "except requests.exceptions.ConnectionError as errc:\n",
    "    print(\"Error Connecting:\", errc)\n",
    "except requests.exceptions.Timeout as errt:\n",
    "    print(\"Timeout Error:\", errt)\n",
    "except requests.exceptions.RequestException as err:\n",
    "    print(\"OOps: Something Else\", err)\n",
    "except Exception:\n",
    "    pass\n",
    "\n",
    "\n",
    "print(response_dur.status_code)\n",
    "print(response_dur.text)"
   ]
  },
  {
   "cell_type": "markdown",
   "metadata": {},
   "source": [
    "### WYBRANIE DANYCH Z JSONA"
   ]
  },
  {
   "cell_type": "code",
   "execution_count": 11,
   "metadata": {},
   "outputs": [],
   "source": [
    "d = response_dur.json()\n",
    "\n",
    "def duration(isin):\n",
    "   \n",
    "    l = 0\n",
    "    for i in d['responses']:\n",
    "        if isin == d['responses'][l]['instrument']['instrumentIdentifierValue']:\n",
    "            dur = d['responses'][l]['duration'][0]['value']\n",
    "            return dur\n",
    "        elif isin != d['responses'][l]['instrument']['instrumentIdentifierValue']:\n",
    "            l+=1\n",
    "            "
   ]
  },
  {
   "cell_type": "code",
   "execution_count": 12,
   "metadata": {},
   "outputs": [
    {
     "name": "stdout",
     "output_type": "stream",
     "text": [
      "3.21\n"
     ]
    }
   ],
   "source": [
    "print(duration('IE00B66F4759'))"
   ]
  },
  {
   "cell_type": "markdown",
   "metadata": {},
   "source": [
    "### INSERT SQL"
   ]
  },
  {
   "cell_type": "code",
   "execution_count": 13,
   "metadata": {},
   "outputs": [],
   "source": [
    "\n",
    "insert_query ='''insert into tam_wskaznik_instrument (Id_wskaznika, Isin, Data,Wartosc,Okres,Data_od,Id_funduszu) \n",
    "VALUES (?,?,?,?,?,?,?);'''\n",
    "\n",
    "\n",
    "def create_lista_insert_MD():\n",
    "    lista_ishares = []\n",
    "    cursor.execute(\"\"\"SELECT distinct p.id_funduszu, p.isin FROM TAM_STAN_PORTFELA p \n",
    "    left join Tam_Instrument i on i.Isin=p.Isin WHERE TYP = 'Tytuly uczestnictwa zagranicznego' \n",
    "    AND DATA_ANALIZY =? and p.isin not in ('IE00B4613386') and p.Isin like 'IE%' and \n",
    "    (i.Nazwa like '%BOND%' or i.Nazwa like '%CORP%' or i.Nazwa like '%GOVER%' or i.Nazwa like '%TIPS%')\"\"\", ere)\n",
    "\n",
    "    for row in cursor:\n",
    "        instruments = [row[0], row[1]]\n",
    "        lista_ishares.append(instruments)\n",
    "\n",
    "\n",
    "    elements = []\n",
    "    p = 0\n",
    "    for i in lista_ishares:\n",
    "        elements_ishares = []\n",
    "        elements_ishares.append(13)\n",
    "        elements_ishares.append(lista_ishares[p][1])\n",
    "        elements_ishares.append(date)\n",
    "        elements_ishares.append(duration(lista_ishares[p][1]))\n",
    "        elements_ishares.append('D')\n",
    "        elements_ishares.append(date)\n",
    "        elements_ishares.append(str(lista_ishares[p][0]))\n",
    "        elements.append(elements_ishares)\n",
    "        p+=1\n",
    "    return elements\n",
    "\n",
    "def create_lista_insert_D():\n",
    "    lista_ishares = []\n",
    "    cursor.execute(\"\"\"SELECT distinct p.id_funduszu, p.isin FROM TAM_STAN_PORTFELA p \n",
    "    left join Tam_Instrument i on i.Isin=p.Isin WHERE TYP = 'Tytuly uczestnictwa zagranicznego' \n",
    "    AND DATA_ANALIZY =? and p.isin not in ('IE00B4613386') and p.Isin like 'IE%' and \n",
    "    (i.Nazwa like '%BOND%' or i.Nazwa like '%CORP%' or i.Nazwa like '%GOVER%' or i.Nazwa like '%TIPS%')\"\"\", ere)\n",
    "\n",
    "    for row in cursor:\n",
    "        instruments = [row[0], row[1]]\n",
    "        lista_ishares.append(instruments)\n",
    "\n",
    "\n",
    "    elements = []\n",
    "    p = 0\n",
    "    for i in lista_ishares:\n",
    "        elements_ishares = []\n",
    "        elements_ishares.append(11)\n",
    "        elements_ishares.append(lista_ishares[p][1])\n",
    "        elements_ishares.append(date)\n",
    "        elements_ishares.append(duration(lista_ishares[p][1]))\n",
    "        elements_ishares.append('D')\n",
    "        elements_ishares.append(date)\n",
    "        elements_ishares.append(str(lista_ishares[p][0]))\n",
    "        elements.append(elements_ishares)\n",
    "        p+=1\n",
    "    return elements\n",
    "    \n",
    "\n",
    "def create_lista_insert_fixed():\n",
    "    insert_date_fixed = []\n",
    "    cursor.execute(\"\"\"SELECT distinct id_funduszu,isin FROM TAM_STAN_PORTFELA \n",
    "    where isin in ('LU1681041205','LU1686830909','IE00B4613386','FR0010892745','FR0011607084',\n",
    "    'PLINPZUINOST','PLINPZUOBLPL','PLINPZURYNWS','LU1681041205','LU1686830909','IE00B4613386','FR0010892745','FR0011607084') and data_analizy = ?\"\"\", ere)\n",
    "    for row in cursor:\n",
    "        if row[1] == 'LU1681041205':\n",
    "            instrument_MD = [13,row[1],date, 9.32,'D',date, int(row[0])]\n",
    "            insert_date_fixed.append(instrument_MD)\n",
    "            instrument_D = [11,row[1],date, 9.32,'D',date, int(row[0])]\n",
    "            insert_date_fixed.append(instrument_D)\n",
    "        elif row[1] == 'LU1686830909':\n",
    "            instrument_MD = [13,row[1],date, 9.49,'D',date, int(row[0])]\n",
    "            insert_date_fixed.append(instrument_MD)\n",
    "            instrument_D = [11,row[1],date, 9.49,'D',date, int(row[0])]\n",
    "            insert_date_fixed.append(instrument_D)\n",
    "        elif row[1] == 'IE00B4613386':\n",
    "            instrument_MD = [13,row[1],date, 6.45,'D',date, int(row[0])]\n",
    "            insert_date_fixed.append(instrument_MD)\n",
    "            instrument_D = [11,row[1],date, 6.45,'D',date, int(row[0])]\n",
    "            insert_date_fixed.append(instrument_D)\n",
    "        elif row[1] == 'FR0010892745':\n",
    "            instrument_MD = [13,row[1],date, 7.45,'D',date, int(row[0])]\n",
    "            insert_date_fixed.append(instrument_MD)\n",
    "            instrument_D = [11,row[1],date, 7.45,'D',date, int(row[0])]\n",
    "            insert_date_fixed.append(instrument_D)\n",
    "        elif row[1] == 'FR0011607084':\n",
    "            instrument_MD = [13,row[1],date, -15.28,'D',date, int(row[0])]\n",
    "            insert_date_fixed.append(instrument_MD)\n",
    "            instrument_D = [11,row[1],date, -15.28,'D',date, int(row[0])]\n",
    "            insert_date_fixed.append(instrument_D)\n",
    "        elif row[1] == 'PLINPZUINOST':\n",
    "            instrument_MD = [13,row[1],date, 0.25,'D',date, int(row[0])]\n",
    "            insert_date_fixed.append(instrument_MD)\n",
    "            instrument_D = [11,row[1],date, 0.25,'D',date, int(row[0])]\n",
    "            insert_date_fixed.append(instrument_D)\n",
    "        elif row[1] == 'PLINPZUOBLPL':\n",
    "            instrument_MD = [13,row[1],date, 4.35,'D',date, int(row[0])]\n",
    "            insert_date_fixed.append(instrument_MD)\n",
    "            instrument_D = [11,row[1],date, 4.35,'D',date, int(row[0])]\n",
    "            insert_date_fixed.append(instrument_D)\n",
    "        elif row[1] == 'PLINPZURYNWS':\n",
    "            instrument_MD = [13,row[1],date, 8.77,'D',date, int(row[0])]\n",
    "            insert_date_fixed.append(instrument_MD)\n",
    "            instrument_D = [11,row[1],date, 8.77,'D',date, int(row[0])]\n",
    "            insert_date_fixed.append(instrument_D)\n",
    "\n",
    "    return insert_date_fixed\n",
    "            \n",
    "\n",
    "insert_date_changed_MD =create_lista_insert_MD() \n",
    "insert_date_changed_D =create_lista_insert_D()\n",
    "\n",
    "for row in insert_date_changed_MD:\n",
    "    values = (row[0],row[1],row[2],row[3],row[4],row[5],row[6])\n",
    "    cursor.execute(insert_query,values)\n",
    "\n",
    "for row in insert_date_changed_D:\n",
    "    values = (row[0],row[1],row[2],row[3],row[4],row[5],row[6])\n",
    "    cursor.execute(insert_query,values)\n",
    "\n",
    "connection.commit()\n",
    "\n"
   ]
  },
  {
   "cell_type": "code",
   "execution_count": 14,
   "metadata": {},
   "outputs": [
    {
     "data": {
      "text/plain": [
       "[[13, 'IE00B66F4759', '2021-04-23', 3.21, 'D', '2021-04-23', '114'],\n",
       " [13, 'IE00B66F4759', '2021-04-23', 3.21, 'D', '2021-04-23', '134']]"
      ]
     },
     "execution_count": 14,
     "metadata": {},
     "output_type": "execute_result"
    }
   ],
   "source": [
    "create_lista_insert_MD()"
   ]
  },
  {
   "cell_type": "code",
   "execution_count": null,
   "metadata": {},
   "outputs": [],
   "source": []
  }
 ],
 "metadata": {
  "kernelspec": {
   "display_name": "Python 3",
   "language": "python",
   "name": "python3"
  },
  "language_info": {
   "codemirror_mode": {
    "name": "ipython",
    "version": 3
   },
   "file_extension": ".py",
   "mimetype": "text/x-python",
   "name": "python",
   "nbconvert_exporter": "python",
   "pygments_lexer": "ipython3",
   "version": "3.7.7"
  },
  "toc": {
   "base_numbering": 1,
   "nav_menu": {},
   "number_sections": true,
   "sideBar": true,
   "skip_h1_title": false,
   "title_cell": "Table of Contents",
   "title_sidebar": "Contents",
   "toc_cell": false,
   "toc_position": {},
   "toc_section_display": true,
   "toc_window_display": false
  }
 },
 "nbformat": 4,
 "nbformat_minor": 4
}

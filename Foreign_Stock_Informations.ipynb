{
 "cells": [
  {
   "cell_type": "code",
   "execution_count": 1,
   "metadata": {},
   "outputs": [],
   "source": [
    "from __future__ import unicode_literals\n",
    "import requests\n",
    "from requests.auth import AuthBase\n",
    "\n",
    "from datetime import timedelta\n",
    "import pyodbc\n",
    "from datetime import datetime as dt\n",
    "\n",
    "import binascii\n",
    "from io import StringIO\n",
    "\n",
    "\n",
    "import datetime\n",
    "import pandas as pd\n",
    "\n",
    "import hashlib\n",
    "import hmac"
   ]
  },
  {
   "cell_type": "code",
   "execution_count": 4,
   "metadata": {},
   "outputs": [],
   "source": [
    "def set_day():\n",
    "    today = datetime.date.today()\n",
    "    weekend = set([5,6])\n",
    "    yesterday = today - timedelta(days=1)\n",
    "    if yesterday.weekday() not in weekend:\n",
    "        yesterdays = today - timedelta(days=1)\n",
    "        date = yesterdays.strftime('%Y-%m-%d')\n",
    "    elif yesterday.weekday() == 5:\n",
    "        yesterdays = today - timedelta(days=3)\n",
    "        date = yesterdays.strftime('%Y-%m-%d')\n",
    "    elif yesterday.weekday() == 6:\n",
    "        yesterdays = today - timedelta(days=3)\n",
    "        date = yesterdays.strftime('%Y-%m-%d')\n",
    "\n",
    "\n",
    "    ereyesterday = today - timedelta(days=2)\n",
    "    if ereyesterday.weekday() not in weekend:\n",
    "        ereyesterdays = today - timedelta(days=2)\n",
    "        ere = ereyesterdays.strftime('%Y-%m-%d')\n",
    "    elif ereyesterday.weekday() == 5:\n",
    "        ereyesterdays = today - timedelta(days=4)\n",
    "        ere = ereyesterdays.strftime('%Y-%m-%d')\n",
    "    elif ereyesterday.weekday() == 6:\n",
    "        ereyesterdays = today - timedelta(days=4)\n",
    "        ere = ereyesterdays.strftime('%Y-%m-%d')\n",
    "    return date,ere,today\n",
    "\n",
    "    twodayago = today - timedelta(days=3)\n",
    "    twodays = twodayago.strftime('%Y-%m-%d')\n",
    "\n",
    "    \n",
    "date, ere, today = set_day()"
   ]
  },
  {
   "cell_type": "markdown",
   "metadata": {},
   "source": [
    "### Connection with SQL"
   ]
  },
  {
   "cell_type": "code",
   "execution_count": 6,
   "metadata": {},
   "outputs": [],
   "source": [
    "connection = pyodbc.connect(\n",
    "    'DRIVER={ODBC Driver 17 for SQL Server};SERVER=xxx;DATABASE=xxx;UID=xxx;PWD=xxx')\n",
    "cursor = connection.cursor()"
   ]
  },
  {
   "cell_type": "markdown",
   "metadata": {},
   "source": [
    "#### Series of foreign instruments"
   ]
  },
  {
   "cell_type": "code",
   "execution_count": 7,
   "metadata": {},
   "outputs": [],
   "source": [
    "foreign_instrument = []\n",
    "cursor.execute(\n",
    "    \"select distinct p.ISIN,p.Miejsce_obrotu from Tam_Stan_portfela p where data_analizy =  ? and isin not like 'XXX%' and isin != 'PLEMG0000020' AND isin != 'PLPCFGR00028'  and isin != 'LU1598757687' and typ='akcje' and miejsce_obrotu is not NULL and not exists (select F.isin from Tam_GPW_Stock_Information f where f.Isin=p.Isin and f.isin != 'DE000TLX1005')\",ere)\n",
    "for row in cursor:\n",
    "#     instruments = {\"ISIN\": row[0], \"MIC\": row[1]}\n",
    "    instruments = row[0]\n",
    "    foreign_instrument.append(instruments) "
   ]
  },
  {
   "cell_type": "markdown",
   "metadata": {},
   "source": [
    "### Download data from API"
   ]
  },
  {
   "cell_type": "code",
   "execution_count": 9,
   "metadata": {},
   "outputs": [],
   "source": [
    "class OAuth2(requests.auth.AuthBase):\n",
    "    def __init__(self, user, signature):\n",
    "        self.signature = signature\n",
    "        self.user = user\n",
    "\n",
    "    def __call__(self, r: requests.Request):\n",
    "        r.headers[\"x-signature\"] = self.signature\n",
    "        r.headers['Accept'] = 'application/json'\n",
    "        r.headers['Content-Type'] = 'application/json'\n",
    "        print(r.headers)\n",
    "        return r"
   ]
  },
  {
   "cell_type": "markdown",
   "metadata": {},
   "source": [
    "#### Mapping"
   ]
  },
  {
   "cell_type": "code",
   "execution_count": 14,
   "metadata": {},
   "outputs": [],
   "source": [
    "def MIC (isin):\n",
    "    \n",
    "    l = []\n",
    "    url = ('xxx/api/v1/instruments/mapping?apiKey=xxx&instrumentIdentifierName=isin&instrumentIdentifierValue=' + isin)\n",
    "    #     print(url)\n",
    "    \n",
    "    api_secret = 'xxx/xxx/xxx'\n",
    "    endpoint= url[url.index('/api'):]\n",
    "    \n",
    "    def create_signature(secret_key, string):\n",
    "        string_to_sign = string.encode('utf-8')\n",
    "        hashed = hmac.new(secret_key,string_to_sign, hashlib.sha512)\n",
    "        return hashed.hexdigest()\n",
    "    \n",
    "    \n",
    "    \n",
    "    try:\n",
    "        response_mapping = requests.get(url, auth=OAuth2(api_secret,create_signature(b'xxx/xxx',endpoint)),timeout=None)\n",
    "    except requests.exceptions.HTTPError as errh:\n",
    "        print(\"Http Error:\", errh)\n",
    "    except requests.exceptions.ConnectionError as errc:\n",
    "        print(\"Error Connecting:\", errc)\n",
    "    except requests.exceptions.Timeout as errt:\n",
    "        print(\"Timeout Error:\", errt)\n",
    "    except requests.exceptions.RequestException as err:\n",
    "        print(\"OOps: Something Else\", err)\n",
    "    except Exception:\n",
    "        pass\n",
    "    \n",
    "    l.append(response_mapping.json()['responses'])\n",
    "#     print(l)\n",
    "    MIC = ''\n",
    "    for i in l:\n",
    "        if isin == i[0]['instrumentMappings'][0]['identifierValue'] and i[0]['exchangeMappings'][0]['identifierName'] == \"MIC\":\n",
    "            MIC = i[0]['exchangeMappings'][0]['identifierValue']\n",
    "        elif isin == i[0]['instrumentMappings'][1]['identifierValue'] and i[0]['exchangeMappings'][0]['identifierName'] == \"MIC\":\n",
    "            MIC = i[0]['exchangeMappings'][0]['identifierValue']\n",
    "\n",
    "\n",
    "    return MIC"
   ]
  },
  {
   "cell_type": "markdown",
   "metadata": {},
   "source": [
    "#### ScheduleNow Capital Info"
   ]
  },
  {
   "cell_type": "code",
   "execution_count": 16,
   "metadata": {},
   "outputs": [],
   "source": [
    "def create_json_instrumenttoprovider():\n",
    "    column_names = (\"instrumentIdentifierName\", \"instrumentIdentifierValue\",\n",
    "                    \"exchangeIdentifierName\", \"exchangeIdentifierValue\",\"dataType\" ,\"dataSource\")\n",
    "    json_response = []\n",
    "    for i in foreign_instrument:\n",
    "\n",
    "        json_element = {}\n",
    "        json_element[column_names[0]] = \"isin\"\n",
    "        json_element[column_names[1]] = i\n",
    "        json_element[column_names[2]] = \"MIC\"\n",
    "        json_element[column_names[3]] = MIC(i)\n",
    "        json_element[column_names[4]] = \"CAPITAL_INFO\"\n",
    "        json_element[column_names[5]] = \"BLOOMBERG\"\n",
    "        json_response.append(json_element)\n",
    "#     print(json.dumps(json_response, indent=5))\n",
    "    return json_response\n"
   ]
  },
  {
   "cell_type": "code",
   "execution_count": 1,
   "metadata": {},
   "outputs": [
    {
     "ename": "NameError",
     "evalue": "name 'create_json_instrumenttoprovider' is not defined",
     "output_type": "error",
     "traceback": [
      "\u001b[1;31m---------------------------------------------------------------------------\u001b[0m",
      "\u001b[1;31mNameError\u001b[0m                                 Traceback (most recent call last)",
      "\u001b[1;32m<ipython-input-1-ea150924b56c>\u001b[0m in \u001b[0;36m<module>\u001b[1;34m\u001b[0m\n\u001b[1;32m----> 1\u001b[1;33m \u001b[0mcreate_json_instrumenttoprovider\u001b[0m\u001b[1;33m(\u001b[0m\u001b[1;33m)\u001b[0m\u001b[1;33m\u001b[0m\u001b[1;33m\u001b[0m\u001b[0m\n\u001b[0m",
      "\u001b[1;31mNameError\u001b[0m: name 'create_json_instrumenttoprovider' is not defined"
     ]
    }
   ],
   "source": [
    "create_json_instrumenttoprovider()\n"
   ]
  },
  {
   "cell_type": "code",
   "execution_count": 2,
   "metadata": {},
   "outputs": [
    {
     "ename": "NameError",
     "evalue": "name 'requests' is not defined",
     "output_type": "error",
     "traceback": [
      "\u001b[1;31m---------------------------------------------------------------------------\u001b[0m",
      "\u001b[1;31mNameError\u001b[0m                                 Traceback (most recent call last)",
      "\u001b[1;32m<ipython-input-2-2d75f35785d9>\u001b[0m in \u001b[0;36m<module>\u001b[1;34m\u001b[0m\n\u001b[0;32m      2\u001b[0m \u001b[1;32mtry\u001b[0m\u001b[1;33m:\u001b[0m\u001b[1;33m\u001b[0m\u001b[1;33m\u001b[0m\u001b[0m\n\u001b[1;32m----> 3\u001b[1;33m     \u001b[0mresponse_schedulenow\u001b[0m \u001b[1;33m=\u001b[0m \u001b[0mrequests\u001b[0m\u001b[1;33m.\u001b[0m\u001b[0mpost\u001b[0m\u001b[1;33m(\u001b[0m\u001b[0murl\u001b[0m\u001b[1;33m,\u001b[0m \u001b[0mauth\u001b[0m\u001b[1;33m=\u001b[0m\u001b[0mOAuth2\u001b[0m\u001b[1;33m(\u001b[0m\u001b[1;34m'xxx/xxx'\u001b[0m\u001b[1;33m,\u001b[0m\u001b[1;34m'xxx'\u001b[0m\u001b[1;33m)\u001b[0m\u001b[1;33m,\u001b[0m \u001b[0mjson\u001b[0m\u001b[1;33m=\u001b[0m\u001b[1;33m{\u001b[0m\u001b[1;34m\"requests\"\u001b[0m\u001b[1;33m:\u001b[0m \u001b[0mcreate_json_instrumenttoprovider\u001b[0m\u001b[1;33m(\u001b[0m\u001b[1;33m)\u001b[0m\u001b[1;33m}\u001b[0m\u001b[1;33m,\u001b[0m \u001b[0mtimeout\u001b[0m\u001b[1;33m=\u001b[0m\u001b[1;32mNone\u001b[0m\u001b[1;33m)\u001b[0m\u001b[1;33m\u001b[0m\u001b[1;33m\u001b[0m\u001b[0m\n\u001b[0m\u001b[0;32m      4\u001b[0m \u001b[1;33m\u001b[0m\u001b[0m\n",
      "\u001b[1;31mNameError\u001b[0m: name 'requests' is not defined",
      "\nDuring handling of the above exception, another exception occurred:\n",
      "\u001b[1;31mNameError\u001b[0m                                 Traceback (most recent call last)",
      "\u001b[1;32m<ipython-input-2-2d75f35785d9>\u001b[0m in \u001b[0;36m<module>\u001b[1;34m\u001b[0m\n\u001b[0;32m      3\u001b[0m     \u001b[0mresponse_schedulenow\u001b[0m \u001b[1;33m=\u001b[0m \u001b[0mrequests\u001b[0m\u001b[1;33m.\u001b[0m\u001b[0mpost\u001b[0m\u001b[1;33m(\u001b[0m\u001b[0murl\u001b[0m\u001b[1;33m,\u001b[0m \u001b[0mauth\u001b[0m\u001b[1;33m=\u001b[0m\u001b[0mOAuth2\u001b[0m\u001b[1;33m(\u001b[0m\u001b[1;34m'xxx/xxx'\u001b[0m\u001b[1;33m,\u001b[0m\u001b[1;34m'xxx'\u001b[0m\u001b[1;33m)\u001b[0m\u001b[1;33m,\u001b[0m \u001b[0mjson\u001b[0m\u001b[1;33m=\u001b[0m\u001b[1;33m{\u001b[0m\u001b[1;34m\"requests\"\u001b[0m\u001b[1;33m:\u001b[0m \u001b[0mcreate_json_instrumenttoprovider\u001b[0m\u001b[1;33m(\u001b[0m\u001b[1;33m)\u001b[0m\u001b[1;33m}\u001b[0m\u001b[1;33m,\u001b[0m \u001b[0mtimeout\u001b[0m\u001b[1;33m=\u001b[0m\u001b[1;32mNone\u001b[0m\u001b[1;33m)\u001b[0m\u001b[1;33m\u001b[0m\u001b[1;33m\u001b[0m\u001b[0m\n\u001b[0;32m      4\u001b[0m \u001b[1;33m\u001b[0m\u001b[0m\n\u001b[1;32m----> 5\u001b[1;33m \u001b[1;32mexcept\u001b[0m \u001b[0mrequests\u001b[0m\u001b[1;33m.\u001b[0m\u001b[0mexceptions\u001b[0m\u001b[1;33m.\u001b[0m\u001b[0mHTTPError\u001b[0m \u001b[1;32mas\u001b[0m \u001b[0merrh\u001b[0m\u001b[1;33m:\u001b[0m\u001b[1;33m\u001b[0m\u001b[1;33m\u001b[0m\u001b[0m\n\u001b[0m\u001b[0;32m      6\u001b[0m     \u001b[0mprint\u001b[0m\u001b[1;33m(\u001b[0m\u001b[1;34m\"Http Error:\"\u001b[0m\u001b[1;33m,\u001b[0m \u001b[0merrh\u001b[0m\u001b[1;33m)\u001b[0m\u001b[1;33m\u001b[0m\u001b[1;33m\u001b[0m\u001b[0m\n\u001b[0;32m      7\u001b[0m \u001b[1;32mexcept\u001b[0m \u001b[0mrequests\u001b[0m\u001b[1;33m.\u001b[0m\u001b[0mexceptions\u001b[0m\u001b[1;33m.\u001b[0m\u001b[0mConnectionError\u001b[0m \u001b[1;32mas\u001b[0m \u001b[0merrc\u001b[0m\u001b[1;33m:\u001b[0m\u001b[1;33m\u001b[0m\u001b[1;33m\u001b[0m\u001b[0m\n",
      "\u001b[1;31mNameError\u001b[0m: name 'requests' is not defined"
     ]
    }
   ],
   "source": [
    "url = 'xxx/api/v1/user/providers/scheduleNow?apiKey=xxx'\n",
    "try:\n",
    "    response_schedulenow = requests.post(url, auth=OAuth2('xxx/xxx','xxx'), json={\"requests\": create_json_instrumenttoprovider()}, timeout=None)\n",
    "        \n",
    "except requests.exceptions.HTTPError as errh:\n",
    "    print(\"Http Error:\", errh)\n",
    "except requests.exceptions.ConnectionError as errc:\n",
    "    print(\"Error Connecting:\", errc)\n",
    "except requests.exceptions.Timeout as errt:\n",
    "    print(\"Timeout Error:\", errt)\n",
    "except requests.exceptions.RequestException as err:\n",
    "    print(\"OOps: Something Else\", err)\n",
    "except Exception:\n",
    "    pass\n",
    "\n",
    "\n",
    "print(response_schedulenow.status_code)\n",
    "print(response_schedulenow.text)"
   ]
  },
  {
   "cell_type": "markdown",
   "metadata": {},
   "source": [
    "##### ScheduleNow Capital Info for stable mic"
   ]
  },
  {
   "cell_type": "code",
   "execution_count": 19,
   "metadata": {},
   "outputs": [],
   "source": [
    "def create_json_instrumenttoprovider_stable_mic():\n",
    "    column_names = (\"instrumentIdentifierName\", \"instrumentIdentifierValue\",\n",
    "                    \"exchangeIdentifierName\", \"exchangeIdentifierValue\",\"dataType\" ,\"dataSource\")\n",
    "    json_response = []\n",
    "\n",
    "\n",
    "    json_element = {}\n",
    "    json_element[column_names[0]] = \"isin\"\n",
    "    json_element[column_names[1]] = \"LU1598757687\"\n",
    "    json_element[column_names[2]] = \"MIC\"\n",
    "    json_element[column_names[3]] = \"XAMS\"\n",
    "    json_element[column_names[4]] = \"CAPITAL_INFO\"\n",
    "    json_element[column_names[5]] = \"BLOOMBERG\"\n",
    "    json_response.append(json_element)\n",
    "\n",
    "#     print(json.dumps(json_response, indent=5))\n",
    "    return json_response\n"
   ]
  },
  {
   "cell_type": "code",
   "execution_count": 20,
   "metadata": {},
   "outputs": [
    {
     "data": {
      "text/plain": [
       "[{'instrumentIdentifierName': 'isin',\n",
       "  'instrumentIdentifierValue': 'LU1598757687',\n",
       "  'exchangeIdentifierName': 'MIC',\n",
       "  'exchangeIdentifierValue': 'XAMS',\n",
       "  'dataType': 'CAPITAL_INFO',\n",
       "  'dataSource': 'BLOOMBERG'}]"
      ]
     },
     "execution_count": 20,
     "metadata": {},
     "output_type": "execute_result"
    }
   ],
   "source": [
    "create_json_instrumenttoprovider_stable_mic()"
   ]
  },
  {
   "cell_type": "code",
   "execution_count": 3,
   "metadata": {},
   "outputs": [
    {
     "ename": "NameError",
     "evalue": "name 'requests' is not defined",
     "output_type": "error",
     "traceback": [
      "\u001b[1;31m---------------------------------------------------------------------------\u001b[0m",
      "\u001b[1;31mNameError\u001b[0m                                 Traceback (most recent call last)",
      "\u001b[1;32m<ipython-input-3-7fceeddfe506>\u001b[0m in \u001b[0;36m<module>\u001b[1;34m\u001b[0m\n\u001b[0;32m      1\u001b[0m \u001b[1;32mtry\u001b[0m\u001b[1;33m:\u001b[0m\u001b[1;33m\u001b[0m\u001b[1;33m\u001b[0m\u001b[0m\n\u001b[1;32m----> 2\u001b[1;33m     \u001b[0mresponse_schedulenow\u001b[0m \u001b[1;33m=\u001b[0m \u001b[0mrequests\u001b[0m\u001b[1;33m.\u001b[0m\u001b[0mpost\u001b[0m\u001b[1;33m(\u001b[0m\u001b[0murl\u001b[0m\u001b[1;33m,\u001b[0m \u001b[0mauth\u001b[0m\u001b[1;33m=\u001b[0m\u001b[0mOAuth2\u001b[0m\u001b[1;33m(\u001b[0m\u001b[1;34m'xxx/xxx'\u001b[0m\u001b[1;33m,\u001b[0m\u001b[1;34m'xxx'\u001b[0m\u001b[1;33m)\u001b[0m\u001b[1;33m,\u001b[0m \u001b[0mjson\u001b[0m\u001b[1;33m=\u001b[0m\u001b[1;33m{\u001b[0m\u001b[1;34m\"requests\"\u001b[0m\u001b[1;33m:\u001b[0m \u001b[0mcreate_json_instrumenttoprovider_stable_mic\u001b[0m\u001b[1;33m(\u001b[0m\u001b[1;33m)\u001b[0m\u001b[1;33m}\u001b[0m\u001b[1;33m,\u001b[0m \u001b[0mtimeout\u001b[0m\u001b[1;33m=\u001b[0m\u001b[1;32mNone\u001b[0m\u001b[1;33m)\u001b[0m\u001b[1;33m\u001b[0m\u001b[1;33m\u001b[0m\u001b[0m\n\u001b[0m\u001b[0;32m      3\u001b[0m \u001b[1;33m\u001b[0m\u001b[0m\n",
      "\u001b[1;31mNameError\u001b[0m: name 'requests' is not defined",
      "\nDuring handling of the above exception, another exception occurred:\n",
      "\u001b[1;31mNameError\u001b[0m                                 Traceback (most recent call last)",
      "\u001b[1;32m<ipython-input-3-7fceeddfe506>\u001b[0m in \u001b[0;36m<module>\u001b[1;34m\u001b[0m\n\u001b[0;32m      2\u001b[0m     \u001b[0mresponse_schedulenow\u001b[0m \u001b[1;33m=\u001b[0m \u001b[0mrequests\u001b[0m\u001b[1;33m.\u001b[0m\u001b[0mpost\u001b[0m\u001b[1;33m(\u001b[0m\u001b[0murl\u001b[0m\u001b[1;33m,\u001b[0m \u001b[0mauth\u001b[0m\u001b[1;33m=\u001b[0m\u001b[0mOAuth2\u001b[0m\u001b[1;33m(\u001b[0m\u001b[1;34m'xxx/xxx'\u001b[0m\u001b[1;33m,\u001b[0m\u001b[1;34m'xxx'\u001b[0m\u001b[1;33m)\u001b[0m\u001b[1;33m,\u001b[0m \u001b[0mjson\u001b[0m\u001b[1;33m=\u001b[0m\u001b[1;33m{\u001b[0m\u001b[1;34m\"requests\"\u001b[0m\u001b[1;33m:\u001b[0m \u001b[0mcreate_json_instrumenttoprovider_stable_mic\u001b[0m\u001b[1;33m(\u001b[0m\u001b[1;33m)\u001b[0m\u001b[1;33m}\u001b[0m\u001b[1;33m,\u001b[0m \u001b[0mtimeout\u001b[0m\u001b[1;33m=\u001b[0m\u001b[1;32mNone\u001b[0m\u001b[1;33m)\u001b[0m\u001b[1;33m\u001b[0m\u001b[1;33m\u001b[0m\u001b[0m\n\u001b[0;32m      3\u001b[0m \u001b[1;33m\u001b[0m\u001b[0m\n\u001b[1;32m----> 4\u001b[1;33m \u001b[1;32mexcept\u001b[0m \u001b[0mrequests\u001b[0m\u001b[1;33m.\u001b[0m\u001b[0mexceptions\u001b[0m\u001b[1;33m.\u001b[0m\u001b[0mHTTPError\u001b[0m \u001b[1;32mas\u001b[0m \u001b[0merrh\u001b[0m\u001b[1;33m:\u001b[0m\u001b[1;33m\u001b[0m\u001b[1;33m\u001b[0m\u001b[0m\n\u001b[0m\u001b[0;32m      5\u001b[0m     \u001b[0mprint\u001b[0m\u001b[1;33m(\u001b[0m\u001b[1;34m\"Http Error:\"\u001b[0m\u001b[1;33m,\u001b[0m \u001b[0merrh\u001b[0m\u001b[1;33m)\u001b[0m\u001b[1;33m\u001b[0m\u001b[1;33m\u001b[0m\u001b[0m\n\u001b[0;32m      6\u001b[0m \u001b[1;32mexcept\u001b[0m \u001b[0mrequests\u001b[0m\u001b[1;33m.\u001b[0m\u001b[0mexceptions\u001b[0m\u001b[1;33m.\u001b[0m\u001b[0mConnectionError\u001b[0m \u001b[1;32mas\u001b[0m \u001b[0merrc\u001b[0m\u001b[1;33m:\u001b[0m\u001b[1;33m\u001b[0m\u001b[1;33m\u001b[0m\u001b[0m\n",
      "\u001b[1;31mNameError\u001b[0m: name 'requests' is not defined"
     ]
    }
   ],
   "source": [
    "\n",
    "try:\n",
    "    response_schedulenow = requests.post(url, auth=OAuth2('xxx/xxx','xxx'), json={\"requests\": create_json_instrumenttoprovider_stable_mic()}, timeout=None)\n",
    "        \n",
    "except requests.exceptions.HTTPError as errh:\n",
    "    print(\"Http Error:\", errh)\n",
    "except requests.exceptions.ConnectionError as errc:\n",
    "    print(\"Error Connecting:\", errc)\n",
    "except requests.exceptions.Timeout as errt:\n",
    "    print(\"Timeout Error:\", errt)\n",
    "except requests.exceptions.RequestException as err:\n",
    "    print(\"OOps: Something Else\", err)\n",
    "except Exception:\n",
    "    pass\n",
    "\n",
    "\n",
    "print(response_schedulenow.status_code)\n",
    "print(response_schedulenow.text)"
   ]
  },
  {
   "cell_type": "markdown",
   "metadata": {},
   "source": [
    "#### Votes"
   ]
  },
  {
   "cell_type": "code",
   "execution_count": 4,
   "metadata": {},
   "outputs": [],
   "source": [
    "def create_json():\n",
    "    column_names = (\"instrumentIdentifierName\", \"instrumentIdentifierValue\",\n",
    "                    \"exchangeIdentifierName\", \"exchangeIdentifierValue\", \"dataSource\")\n",
    "    json_response = []\n",
    "    for i in foreign_instrument:\n",
    "\n",
    "        json_element = {}\n",
    "        json_element[column_names[0]] = \"isin\"\n",
    "        json_element[column_names[1]] = i\n",
    "        json_element[column_names[2]] = \"MIC\"\n",
    "        json_element[column_names[3]] = MIC(i)\n",
    "        json_element[column_names[4]] = \"BLOOMBERG\"\n",
    "        json_response.append(json_element)\n",
    "#     print(json.dumps(json_response, indent=5))\n",
    "    return json_response\n",
    "\n"
   ]
  },
  {
   "cell_type": "code",
   "execution_count": 5,
   "metadata": {},
   "outputs": [
    {
     "ename": "NameError",
     "evalue": "name 'foreign_instrument' is not defined",
     "output_type": "error",
     "traceback": [
      "\u001b[1;31m---------------------------------------------------------------------------\u001b[0m",
      "\u001b[1;31mNameError\u001b[0m                                 Traceback (most recent call last)",
      "\u001b[1;32m<ipython-input-5-1186ff154c3d>\u001b[0m in \u001b[0;36m<module>\u001b[1;34m\u001b[0m\n\u001b[1;32m----> 1\u001b[1;33m \u001b[0mcreate_json\u001b[0m\u001b[1;33m(\u001b[0m\u001b[1;33m)\u001b[0m\u001b[1;33m\u001b[0m\u001b[1;33m\u001b[0m\u001b[0m\n\u001b[0m",
      "\u001b[1;32m<ipython-input-4-c989263bb341>\u001b[0m in \u001b[0;36mcreate_json\u001b[1;34m()\u001b[0m\n\u001b[0;32m      3\u001b[0m                     \"exchangeIdentifierName\", \"exchangeIdentifierValue\", \"dataSource\")\n\u001b[0;32m      4\u001b[0m     \u001b[0mjson_response\u001b[0m \u001b[1;33m=\u001b[0m \u001b[1;33m[\u001b[0m\u001b[1;33m]\u001b[0m\u001b[1;33m\u001b[0m\u001b[1;33m\u001b[0m\u001b[0m\n\u001b[1;32m----> 5\u001b[1;33m     \u001b[1;32mfor\u001b[0m \u001b[0mi\u001b[0m \u001b[1;32min\u001b[0m \u001b[0mforeign_instrument\u001b[0m\u001b[1;33m:\u001b[0m\u001b[1;33m\u001b[0m\u001b[1;33m\u001b[0m\u001b[0m\n\u001b[0m\u001b[0;32m      6\u001b[0m \u001b[1;33m\u001b[0m\u001b[0m\n\u001b[0;32m      7\u001b[0m         \u001b[0mjson_element\u001b[0m \u001b[1;33m=\u001b[0m \u001b[1;33m{\u001b[0m\u001b[1;33m}\u001b[0m\u001b[1;33m\u001b[0m\u001b[1;33m\u001b[0m\u001b[0m\n",
      "\u001b[1;31mNameError\u001b[0m: name 'foreign_instrument' is not defined"
     ]
    }
   ],
   "source": [
    "create_json()"
   ]
  },
  {
   "cell_type": "code",
   "execution_count": 6,
   "metadata": {},
   "outputs": [
    {
     "ename": "NameError",
     "evalue": "name 'requests' is not defined",
     "output_type": "error",
     "traceback": [
      "\u001b[1;31m---------------------------------------------------------------------------\u001b[0m",
      "\u001b[1;31mNameError\u001b[0m                                 Traceback (most recent call last)",
      "\u001b[1;32m<ipython-input-6-a80a3fa14b32>\u001b[0m in \u001b[0;36m<module>\u001b[1;34m\u001b[0m\n\u001b[0;32m      1\u001b[0m \u001b[1;32mtry\u001b[0m\u001b[1;33m:\u001b[0m\u001b[1;33m\u001b[0m\u001b[1;33m\u001b[0m\u001b[0m\n\u001b[1;32m----> 2\u001b[1;33m     response_capitalinfo = requests.post(url, auth=OAuth2('xxx/xxx','xxx'),\n\u001b[0m\u001b[0;32m      3\u001b[0m                              json={\n",
      "\u001b[1;31mNameError\u001b[0m: name 'requests' is not defined",
      "\nDuring handling of the above exception, another exception occurred:\n",
      "\u001b[1;31mNameError\u001b[0m                                 Traceback (most recent call last)",
      "\u001b[1;32m<ipython-input-6-a80a3fa14b32>\u001b[0m in \u001b[0;36m<module>\u001b[1;34m\u001b[0m\n\u001b[0;32m      6\u001b[0m     }, timeout=None)\n\u001b[0;32m      7\u001b[0m \u001b[1;33m\u001b[0m\u001b[0m\n\u001b[1;32m----> 8\u001b[1;33m \u001b[1;32mexcept\u001b[0m \u001b[0mrequests\u001b[0m\u001b[1;33m.\u001b[0m\u001b[0mexceptions\u001b[0m\u001b[1;33m.\u001b[0m\u001b[0mHTTPError\u001b[0m \u001b[1;32mas\u001b[0m \u001b[0merrh\u001b[0m\u001b[1;33m:\u001b[0m\u001b[1;33m\u001b[0m\u001b[1;33m\u001b[0m\u001b[0m\n\u001b[0m\u001b[0;32m      9\u001b[0m     \u001b[0mprint\u001b[0m\u001b[1;33m(\u001b[0m\u001b[1;34m\"Http Error:\"\u001b[0m\u001b[1;33m,\u001b[0m \u001b[0merrh\u001b[0m\u001b[1;33m)\u001b[0m\u001b[1;33m\u001b[0m\u001b[1;33m\u001b[0m\u001b[0m\n\u001b[0;32m     10\u001b[0m \u001b[1;32mexcept\u001b[0m \u001b[0mrequests\u001b[0m\u001b[1;33m.\u001b[0m\u001b[0mexceptions\u001b[0m\u001b[1;33m.\u001b[0m\u001b[0mConnectionError\u001b[0m \u001b[1;32mas\u001b[0m \u001b[0merrc\u001b[0m\u001b[1;33m:\u001b[0m\u001b[1;33m\u001b[0m\u001b[1;33m\u001b[0m\u001b[0m\n",
      "\u001b[1;31mNameError\u001b[0m: name 'requests' is not defined"
     ]
    }
   ],
   "source": [
    "\n",
    "try:\n",
    "    response_capitalinfo = requests.post(url, auth=OAuth2('xxx/xxx','xxx'),\n",
    "                             json={\n",
    "#         \"dateValidOn\": str(ere),\n",
    "        \"requests\": create_json()\n",
    "    }, timeout=None)\n",
    "\n",
    "except requests.exceptions.HTTPError as errh:\n",
    "    print(\"Http Error:\", errh)\n",
    "except requests.exceptions.ConnectionError as errc:\n",
    "    print(\"Error Connecting:\", errc)\n",
    "except requests.exceptions.Timeout as errt:\n",
    "    print(\"Timeout Error:\", errt)\n",
    "except requests.exceptions.RequestException as err:\n",
    "    print(\"OOps: Something Else\", err)\n",
    "except Exception:\n",
    "    pass\n",
    "\n",
    "\n",
    "print(response_capitalinfo.status_code)\n",
    "print(response_capitalinfo.text)"
   ]
  },
  {
   "cell_type": "markdown",
   "metadata": {},
   "source": [
    "##### Votes for stable mic"
   ]
  },
  {
   "cell_type": "code",
   "execution_count": 25,
   "metadata": {},
   "outputs": [
    {
     "name": "stdout",
     "output_type": "stream",
     "text": [
      "[{'instrumentIdentifierName': 'isin', 'instrumentIdentifierValue': 'LU1598757687', 'exchangeIdentifierName': 'MIC', 'exchangeIdentifierValue': 'XAMS', 'dataSource': 'BLOOMBERG'}]\n"
     ]
    }
   ],
   "source": [
    "def create_json_stable_mic():\n",
    "    column_names = (\"instrumentIdentifierName\", \"instrumentIdentifierValue\",\n",
    "                    \"exchangeIdentifierName\", \"exchangeIdentifierValue\", \"dataSource\")\n",
    "    json_response = []\n",
    "    \n",
    "    json_element = {}\n",
    "    json_element[column_names[0]] = \"isin\"\n",
    "    json_element[column_names[1]] = \"LU1598757687\"\n",
    "    json_element[column_names[2]] = \"MIC\"\n",
    "    json_element[column_names[3]] = \"XAMS\"\n",
    "    json_element[column_names[4]] = \"BLOOMBERG\"\n",
    "    json_response.append(json_element)\n",
    "\n",
    "    return json_response\n",
    "print(create_json_stable_mic())"
   ]
  },
  {
   "cell_type": "code",
   "execution_count": 7,
   "metadata": {},
   "outputs": [
    {
     "ename": "NameError",
     "evalue": "name 'requests' is not defined",
     "output_type": "error",
     "traceback": [
      "\u001b[1;31m---------------------------------------------------------------------------\u001b[0m",
      "\u001b[1;31mNameError\u001b[0m                                 Traceback (most recent call last)",
      "\u001b[1;32m<ipython-input-7-01518648ef4e>\u001b[0m in \u001b[0;36m<module>\u001b[1;34m\u001b[0m\n\u001b[0;32m      1\u001b[0m \u001b[1;32mtry\u001b[0m\u001b[1;33m:\u001b[0m\u001b[1;33m\u001b[0m\u001b[1;33m\u001b[0m\u001b[0m\n\u001b[1;32m----> 2\u001b[1;33m     response_capitalinfo_stable_mic = requests.post(url, auth=OAuth2('xxx/xxx', 'xxx'),\n\u001b[0m\u001b[0;32m      3\u001b[0m                              json={\n",
      "\u001b[1;31mNameError\u001b[0m: name 'requests' is not defined",
      "\nDuring handling of the above exception, another exception occurred:\n",
      "\u001b[1;31mNameError\u001b[0m                                 Traceback (most recent call last)",
      "\u001b[1;32m<ipython-input-7-01518648ef4e>\u001b[0m in \u001b[0;36m<module>\u001b[1;34m\u001b[0m\n\u001b[0;32m      6\u001b[0m     }, timeout=None)\n\u001b[0;32m      7\u001b[0m \u001b[1;33m\u001b[0m\u001b[0m\n\u001b[1;32m----> 8\u001b[1;33m \u001b[1;32mexcept\u001b[0m \u001b[0mrequests\u001b[0m\u001b[1;33m.\u001b[0m\u001b[0mexceptions\u001b[0m\u001b[1;33m.\u001b[0m\u001b[0mHTTPError\u001b[0m \u001b[1;32mas\u001b[0m \u001b[0merrh\u001b[0m\u001b[1;33m:\u001b[0m\u001b[1;33m\u001b[0m\u001b[1;33m\u001b[0m\u001b[0m\n\u001b[0m\u001b[0;32m      9\u001b[0m     \u001b[0mprint\u001b[0m\u001b[1;33m(\u001b[0m\u001b[1;34m\"Http Error:\"\u001b[0m\u001b[1;33m,\u001b[0m \u001b[0merrh\u001b[0m\u001b[1;33m)\u001b[0m\u001b[1;33m\u001b[0m\u001b[1;33m\u001b[0m\u001b[0m\n\u001b[0;32m     10\u001b[0m \u001b[1;32mexcept\u001b[0m \u001b[0mrequests\u001b[0m\u001b[1;33m.\u001b[0m\u001b[0mexceptions\u001b[0m\u001b[1;33m.\u001b[0m\u001b[0mConnectionError\u001b[0m \u001b[1;32mas\u001b[0m \u001b[0merrc\u001b[0m\u001b[1;33m:\u001b[0m\u001b[1;33m\u001b[0m\u001b[1;33m\u001b[0m\u001b[0m\n",
      "\u001b[1;31mNameError\u001b[0m: name 'requests' is not defined"
     ]
    }
   ],
   "source": [
    "\n",
    "try:\n",
    "    response_capitalinfo_stable_mic = requests.post(url, auth=OAuth2('xxx/xxx', 'xxx'),\n",
    "                             json={\n",
    "#         \"dateValidOn\": str(ere),\n",
    "        \"requests\": create_json_stable_mic()\n",
    "    }, timeout=None)\n",
    "\n",
    "except requests.exceptions.HTTPError as errh:\n",
    "    print(\"Http Error:\", errh)\n",
    "except requests.exceptions.ConnectionError as errc:\n",
    "    print(\"Error Connecting:\", errc)\n",
    "except requests.exceptions.Timeout as errt:\n",
    "    print(\"Timeout Error:\", errt)\n",
    "except requests.exceptions.RequestException as err:\n",
    "    print(\"OOps: Something Else\", err)\n",
    "except Exception:\n",
    "    pass\n",
    "\n",
    "\n",
    "print(response_capitalinfo_stable_mic.status_code)\n",
    "print(response_capitalinfo_stable_mic.text)"
   ]
  },
  {
   "cell_type": "markdown",
   "metadata": {},
   "source": [
    "#### Get data from response"
   ]
  },
  {
   "cell_type": "code",
   "execution_count": 28,
   "metadata": {},
   "outputs": [],
   "source": [
    "d = response_capitalinfo.json()\n",
    "kroki = []\n",
    "\n",
    "def lista():\n",
    "    lista_foreign_insert = []\n",
    "    l = 0\n",
    "    for i in d['responses']:\n",
    "\n",
    "    \n",
    "        if str(i) == \"\"\"{'code': 'NO_SUCH_INSTRUMENT', 'detail': \"IssuerCapitalInfo doesn't exist\"}\"\"\":\n",
    "            del i           \n",
    "            l+=1\n",
    "        elif 'votes'in i:\n",
    "            lista_foreign_insert.append(d['responses'][l]['instrumentIdentifierValue'])\n",
    "            l+=1\n",
    "        else:\n",
    "            del i\n",
    "            l+=1\n",
    "            \n",
    "    return lista_foreign_insert      \n",
    "\n",
    "def Votes(isin):\n",
    "\n",
    "    l = 0\n",
    "    for i in d['responses']:\n",
    "\n",
    "    \n",
    "        if str(i) == \"\"\"{'code': 'NO_SUCH_INSTRUMENT', 'detail': \"IssuerCapitalInfo doesn't exist\"}\"\"\":\n",
    "            del i\n",
    "            l+=1\n",
    "            \n",
    "            \n",
    "        elif isin == d['responses'][l]['instrumentIdentifierValue']:\n",
    "            \n",
    "            vote = d['responses'][l]['votes']\n",
    "            date = d['responses'][l]['dateFrom']\n",
    "\n",
    "            return vote,date\n",
    "            \n",
    "        elif isin != d['responses'][l]['instrumentIdentifierValue']:\n",
    "            l += 1\n",
    "        else:\n",
    "            continue\n",
    "            l+=1\n",
    "    "
   ]
  },
  {
   "cell_type": "code",
   "execution_count": 29,
   "metadata": {},
   "outputs": [
    {
     "name": "stdout",
     "output_type": "stream",
     "text": [
      "['AN8068571086', 'AT0000652011', 'AT0000821103', 'BE0003565737', 'CA0585861085', 'CH0012138530', 'CZ0008019106', 'DE0005190003', 'DE0005552004', 'DE0006231004', 'DE0007100000', 'DE0007236101', 'DE0007500001', 'DE0007664039', 'DE000A0BL849', 'DE000A0D6554', 'ES0148396007', 'ES0165386014', 'FR0000045072', 'FR0010451203', 'HU0000061726', 'IT0000072618', 'LU2290522684', 'NL0000235190', 'PTJMT0AE0001', 'US00507V1098', 'US02079K3059', 'US0382221051', 'US30303M1027', 'US35671D8570', 'US37045V1008', 'US46625H1005', 'US64125C1099', 'US6512291062', 'US70450Y1038', 'US7475251036', 'US76009N1000', 'US87612E1064', 'US9182041080', 'US9497461015']\n"
     ]
    }
   ],
   "source": [
    "foreign_instrument = lista()\n",
    "print(foreign_instrument)"
   ]
  },
  {
   "cell_type": "code",
   "execution_count": 30,
   "metadata": {},
   "outputs": [
    {
     "name": "stdout",
     "output_type": "stream",
     "text": [
      "{'instrumentIdentifierValue': 'AN8068571086', 'instrumentIdentifierName': 'isin', 'exchangeIdentifierValue': 'XNYS', 'exchangeIdentifierName': 'MIC', 'dataSource': 'BLOOMBERG', 'issuer': {'issuerIdentifierValue': '213800ZUA17OK3QLGM62', 'issuerIdentifierName': 'LEI', 'dataSource': 'BLOOMBERG'}, 'dateFrom': '2022-06-30T05:00:00Z', 'totalShares': 1403000000, 'votes': 1414388264, 'freeFloat': 99.8031, 'freeFloatQuantity': 1411.604}\n",
      "{'instrumentIdentifierValue': 'AT0000652011', 'instrumentIdentifierName': 'isin', 'exchangeIdentifierValue': 'XVIE', 'exchangeIdentifierName': 'MIC', 'dataSource': 'BLOOMBERG', 'issuer': {'issuerIdentifierValue': 'PQOH26KWDF7CG10L6792', 'issuerIdentifierName': 'LEI', 'dataSource': 'BLOOMBERG'}, 'dateFrom': '2022-08-18T05:00:00Z', 'votes': 429800000, 'freeFloat': 80.926, 'freeFloatQuantity': 347.8198}\n",
      "{'instrumentIdentifierValue': 'AT0000821103', 'instrumentIdentifierName': 'isin', 'exchangeIdentifierValue': 'XVIE', 'exchangeIdentifierName': 'MIC', 'dataSource': 'BLOOMBERG', 'issuer': {'issuerIdentifierValue': '529900OOW8ELHOXWZP82', 'issuerIdentifierName': 'LEI', 'dataSource': 'BLOOMBERG'}, 'dateFrom': '2022-06-10T05:00:00Z', 'votes': 309000000, 'freeFloat': 40.1, 'freeFloatQuantity': 123.909}\n",
      "{'instrumentIdentifierValue': 'BE0003565737', 'instrumentIdentifierName': 'isin', 'exchangeIdentifierValue': 'XEUR', 'exchangeIdentifierName': 'MIC', 'dataSource': 'BLOOMBERG', 'issuer': {'issuerIdentifierValue': '213800X3Q9LSAKRUWY91', 'issuerIdentifierName': 'LEI', 'dataSource': 'BLOOMBERG'}, 'dateFrom': '2021-12-20T05:00:00Z', 'votes': 416883592, 'freeFloat': 67.2, 'freeFloatQuantity': 280.1458}\n",
      "{'instrumentIdentifierValue': 'CA0585861085', 'instrumentIdentifierName': 'isin', 'exchangeIdentifierValue': 'XTSE', 'exchangeIdentifierName': 'MIC', 'dataSource': 'BLOOMBERG', 'issuer': {'issuerIdentifierValue': '549300OHZ8BMF53YYS26', 'issuerIdentifierName': 'LEI', 'dataSource': 'BLOOMBERG'}, 'dateFrom': '2022-07-29T05:00:00Z', 'votes': 298168858, 'freeFloat': 79.4999, 'freeFloatQuantity': 237.0438}\n",
      "{'instrumentIdentifierValue': 'CA0679011084', 'instrumentIdentifierName': 'isin', 'exchangeIdentifierValue': 'FINR', 'exchangeIdentifierName': 'MIC', 'dataSource': 'BLOOMBERG', 'errors': [{'code': 'NOT_FOUND', 'detail': 'Entity not found.'}]}\n",
      "{'instrumentIdentifierValue': 'CA5592224011', 'instrumentIdentifierName': 'isin', 'exchangeIdentifierValue': 'XASE', 'exchangeIdentifierName': 'MIC', 'dataSource': 'BLOOMBERG', 'errors': [{'code': 'NOT_FOUND', 'detail': 'Entity not found.'}]}\n",
      "{'instrumentIdentifierValue': 'CH0012138530', 'instrumentIdentifierName': 'isin', 'exchangeIdentifierValue': 'OTCM', 'exchangeIdentifierName': 'MIC', 'dataSource': 'BLOOMBERG', 'issuer': {'issuerIdentifierValue': '549300506SI9CRFV9Z86', 'issuerIdentifierName': 'LEI', 'dataSource': 'BLOOMBERG'}, 'dateFrom': '2022-03-21T05:00:00Z', 'votes': 2650747720, 'freeFloat': 91.2661, 'freeFloatQuantity': 2419.234}\n",
      "{'instrumentIdentifierValue': 'CZ0008019106', 'instrumentIdentifierName': 'isin', 'exchangeIdentifierValue': 'XPRA', 'exchangeIdentifierName': 'MIC', 'dataSource': 'BLOOMBERG', 'issuer': {'issuerIdentifierValue': 'IYKCAVNFR8QGF00HV840', 'issuerIdentifierName': 'LEI', 'dataSource': 'BLOOMBERG'}, 'dateFrom': '2022-09-23T05:00:00Z', 'totalShares': 188855900, 'votes': 190049260, 'freeFloat': 39.0221, 'freeFloatQuantity': 74.1612}\n",
      "{'instrumentIdentifierValue': 'DE0005190003', 'instrumentIdentifierName': 'isin', 'exchangeIdentifierValue': 'XETR', 'exchangeIdentifierName': 'MIC', 'dataSource': 'BLOOMBERG', 'issuer': {'issuerIdentifierValue': 'YEH5ZCD6E441RHVHD759', 'issuerIdentifierName': 'LEI', 'dataSource': 'BLOOMBERG'}, 'dateFrom': '2019-03-21T05:00:00Z', 'votes': 601995196, 'freeFloat': 53.3, 'freeFloatQuantity': 320.8634}\n",
      "{'instrumentIdentifierValue': 'DE0005470405', 'instrumentIdentifierName': 'isin', 'exchangeIdentifierValue': 'OTC', 'exchangeIdentifierName': 'MIC', 'dataSource': 'BLOOMBERG', 'errors': [{'code': 'NOT_FOUND', 'detail': 'Entity not found.'}]}\n",
      "{'instrumentIdentifierValue': 'DE0005552004', 'instrumentIdentifierName': 'isin', 'exchangeIdentifierValue': 'XEUR', 'exchangeIdentifierName': 'MIC', 'dataSource': 'BLOOMBERG', 'issuer': {'issuerIdentifierValue': '8ER8GIG7CSMVD8VUFE78', 'issuerIdentifierName': 'LEI', 'dataSource': 'BLOOMBERG'}, 'dateFrom': '2020-11-09T05:00:00Z', 'votes': 1239059409, 'freeFloat': 78.2694, 'freeFloatQuantity': 969.8048}\n",
      "{'instrumentIdentifierValue': 'DE0006231004', 'instrumentIdentifierName': 'isin', 'exchangeIdentifierValue': 'XEUR', 'exchangeIdentifierName': 'MIC', 'dataSource': 'BLOOMBERG', 'issuer': {'issuerIdentifierValue': 'TSI2PJM6EPETEQ4X1U25', 'issuerIdentifierName': 'LEI', 'dataSource': 'BLOOMBERG'}, 'dateFrom': '2021-09-30T05:00:00Z', 'votes': 1305921137, 'freeFloat': 92.0088, 'freeFloatQuantity': 1201.563}\n",
      "{'instrumentIdentifierValue': 'DE0007100000', 'instrumentIdentifierName': 'isin', 'exchangeIdentifierValue': 'XETR', 'exchangeIdentifierName': 'MIC', 'dataSource': 'BLOOMBERG', 'issuer': {'issuerIdentifierValue': '529900R27DL06UVNT076', 'issuerIdentifierName': 'LEI', 'dataSource': 'BLOOMBERG'}, 'dateFrom': '2018-02-01T05:00:00Z', 'votes': 1069837447, 'freeFloat': 64.0941, 'freeFloatQuantity': 685.7025}\n",
      "{'instrumentIdentifierValue': 'DE0007236101', 'instrumentIdentifierName': 'isin', 'exchangeIdentifierValue': 'XEUR', 'exchangeIdentifierName': 'MIC', 'dataSource': 'BLOOMBERG', 'issuer': {'issuerIdentifierValue': 'W38RGI023J3WT1HWRP32', 'issuerIdentifierName': 'LEI', 'dataSource': 'BLOOMBERG'}, 'dateFrom': '2017-12-31T05:00:00Z', 'votes': 850000000, 'freeFloat': 94, 'freeFloatQuantity': 799}\n",
      "{'instrumentIdentifierValue': 'DE0007500001', 'instrumentIdentifierName': 'isin', 'exchangeIdentifierValue': 'XETR', 'exchangeIdentifierName': 'MIC', 'dataSource': 'BLOOMBERG', 'issuer': {'issuerIdentifierValue': '549300UDG16DOYUPR330', 'issuerIdentifierName': 'LEI', 'dataSource': 'BLOOMBERG'}, 'dateFrom': '2017-12-31T05:00:00Z', 'totalShares': 622531741, 'votes': 622531741, 'freeFloat': 79, 'freeFloatQuantity': 491.8001}\n",
      "{'instrumentIdentifierValue': 'DE0007664039', 'instrumentIdentifierName': 'isin', 'exchangeIdentifierValue': 'XFRA', 'exchangeIdentifierName': 'MIC', 'dataSource': 'BLOOMBERG', 'issuer': {'issuerIdentifierValue': '529900NNUPAGGOMPXZ31', 'issuerIdentifierName': 'LEI', 'dataSource': 'BLOOMBERG'}, 'dateFrom': '2018-08-28T05:00:00Z', 'votes': 295089818, 'freeFloat': 88.78, 'freeFloatQuantity': 183.0692}\n",
      "{'instrumentIdentifierValue': 'DE0008404005', 'instrumentIdentifierName': 'isin', 'exchangeIdentifierValue': 'XEUR', 'exchangeIdentifierName': 'MIC', 'dataSource': 'BLOOMBERG', 'errors': [{'code': 'NOT_FOUND', 'detail': 'Entity not found.'}]}\n",
      "{'instrumentIdentifierValue': 'DE000A0BL849', 'instrumentIdentifierName': 'isin', 'exchangeIdentifierValue': 'XFRA', 'exchangeIdentifierName': 'MIC', 'dataSource': 'BLOOMBERG', 'issuer': {'issuerIdentifierValue': '529900OEWA4GSZEZ4P40', 'issuerIdentifierName': 'LEI', 'dataSource': 'BLOOMBERG'}, 'dateFrom': '2021-11-09T05:00:00Z', 'totalShares': 4145959, 'votes': 16036459, 'freeFloat': 22.9983, 'freeFloatQuantity': 3.6881}\n",
      "{'instrumentIdentifierValue': 'DE000A0D6554', 'instrumentIdentifierName': 'isin', 'exchangeIdentifierValue': 'XETR', 'exchangeIdentifierName': 'MIC', 'dataSource': 'BLOOMBERG', 'issuer': {'issuerIdentifierValue': '529900HVDYCUWVD0OE76', 'issuerIdentifierName': 'LEI', 'dataSource': 'BLOOMBERG'}, 'dateFrom': '2022-07-25T05:00:00Z', 'totalShares': 171591446, 'votes': 211946227, 'freeFloat': 75.6384, 'freeFloatQuantity': 160.3128}\n",
      "{'instrumentIdentifierValue': 'DE000DTR0CK8', 'instrumentIdentifierName': 'isin', 'exchangeIdentifierValue': 'XFRA', 'exchangeIdentifierName': 'MIC', 'dataSource': 'BLOOMBERG', 'errors': [{'code': 'NOT_FOUND', 'detail': 'Entity not found.'}]}\n",
      "{'instrumentIdentifierValue': 'DE000TLX1005', 'instrumentIdentifierName': 'isin', 'exchangeIdentifierValue': 'XWAR', 'exchangeIdentifierName': 'MIC', 'dataSource': 'BLOOMBERG', 'errors': [{'code': 'NOT_FOUND', 'detail': 'Entity not found.'}]}\n",
      "{'instrumentIdentifierValue': 'DE000VTSC017', 'instrumentIdentifierName': 'isin', 'exchangeIdentifierValue': 'XBER', 'exchangeIdentifierName': 'MIC', 'dataSource': 'BLOOMBERG', 'errors': [{'code': 'NOT_FOUND', 'detail': 'Entity not found.'}]}\n",
      "{'instrumentIdentifierValue': 'ES0148396007', 'instrumentIdentifierName': 'isin', 'exchangeIdentifierValue': 'XMRV', 'exchangeIdentifierName': 'MIC', 'dataSource': 'BLOOMBERG', 'issuer': {'issuerIdentifierValue': '549300TTCXZOGZM2EY83', 'issuerIdentifierName': 'LEI', 'dataSource': 'BLOOMBERG'}, 'dateFrom': '2022-08-18T05:00:00Z', 'votes': 3116652000, 'freeFloat': 35.4463, 'freeFloatQuantity': 1104.739}\n",
      "{'instrumentIdentifierValue': 'ES0165386014', 'instrumentIdentifierName': 'isin', 'exchangeIdentifierValue': 'XMAD', 'exchangeIdentifierName': 'MIC', 'dataSource': 'BLOOMBERG', 'issuer': {'issuerIdentifierValue': '959800PM2YJU406K2789', 'issuerIdentifierName': 'LEI', 'dataSource': 'BLOOMBERG'}, 'dateFrom': '2022-09-23T05:00:00Z', 'totalShares': 124950876, 'votes': 124950876, 'freeFloat': 65.09, 'freeFloatQuantity': 81.3305}\n",
      "{'instrumentIdentifierValue': 'FR0000045072', 'instrumentIdentifierName': 'isin', 'exchangeIdentifierValue': 'XEUR', 'exchangeIdentifierName': 'MIC', 'dataSource': 'BLOOMBERG', 'issuer': {'issuerIdentifierValue': '969500TJ5KRTCJQWXH05', 'issuerIdentifierName': 'LEI', 'dataSource': 'BLOOMBERG'}, 'dateFrom': '2022-09-05T05:00:00Z', 'votes': 3042560716, 'freeFloat': 46.9636, 'freeFloatQuantity': 1428.897}\n",
      "{'instrumentIdentifierValue': 'FR0000121147', 'instrumentIdentifierName': 'isin', 'exchangeIdentifierValue': 'XPAR', 'exchangeIdentifierName': 'MIC', 'dataSource': 'BLOOMBERG', 'issuer': {'issuerIdentifierValue': '969500F0VMZLK2IULV85', 'issuerIdentifierName': 'LEI', 'dataSource': 'BLOOMBERG'}, 'dateFrom': '2022-06-24T05:00:00Z', 'totalShares': 152310660, 'freeFloat': 88.1028, 'freeFloatQuantity': 173.6412}\n",
      "{'instrumentIdentifierValue': 'FR0000125007', 'instrumentIdentifierName': 'isin', 'exchangeIdentifierValue': 'XEUR', 'exchangeIdentifierName': 'MIC', 'dataSource': 'BLOOMBERG', 'issuer': {'issuerIdentifierValue': 'NFONVGN05Z0FMN5PEC35', 'issuerIdentifierName': 'LEI', 'dataSource': 'BLOOMBERG'}, 'dateFrom': '2022-06-29T05:00:00Z', 'freeFloat': 81.7617, 'freeFloatQuantity': 425.2116}\n",
      "{'instrumentIdentifierValue': 'FR0000130809', 'instrumentIdentifierName': 'isin', 'exchangeIdentifierValue': 'XPAR', 'exchangeIdentifierName': 'MIC', 'dataSource': 'BLOOMBERG', 'issuer': {'issuerIdentifierValue': 'O2RNE8IBXP4R0TD8PU41', 'issuerIdentifierName': 'LEI', 'dataSource': 'BLOOMBERG'}, 'dateFrom': '2022-07-22T05:00:00Z', 'freeFloat': 97.2514, 'freeFloatQuantity': 826.5242}\n",
      "{'instrumentIdentifierValue': 'FR0000131104', 'instrumentIdentifierName': 'isin', 'exchangeIdentifierValue': 'XPAR', 'exchangeIdentifierName': 'MIC', 'dataSource': 'BLOOMBERG', 'issuer': {'issuerIdentifierValue': 'R0MUWSFPU8MPRO8K5P83', 'issuerIdentifierName': 'LEI', 'dataSource': 'BLOOMBERG'}, 'dateFrom': '2022-08-06T05:00:00Z', 'totalShares': 1233609675, 'freeFloat': 91.076, 'freeFloatQuantity': 1124.18}\n",
      "{'instrumentIdentifierValue': 'FR0010220475', 'instrumentIdentifierName': 'isin', 'exchangeIdentifierValue': 'OTCM', 'exchangeIdentifierName': 'MIC', 'dataSource': 'BLOOMBERG', 'issuer': {'issuerIdentifierValue': '96950032TUYMW11FB530', 'issuerIdentifierName': 'LEI', 'dataSource': 'BLOOMBERG'}, 'dateFrom': '2022-08-29T05:00:00Z', 'freeFloat': 79.3096, 'freeFloatQuantity': 298.3755}\n",
      "{'instrumentIdentifierValue': 'FR0010451203', 'instrumentIdentifierName': 'isin', 'exchangeIdentifierValue': 'XEUR', 'exchangeIdentifierName': 'MIC', 'dataSource': 'BLOOMBERG', 'issuer': {'issuerIdentifierValue': '969500N6AVPA51648T62', 'issuerIdentifierName': 'LEI', 'dataSource': 'BLOOMBERG'}, 'dateFrom': '2022-07-08T05:00:00Z', 'votes': 306893023, 'freeFloat': 99.41, 'freeFloatQuantity': 305.0824}\n",
      "{'instrumentIdentifierValue': 'GB00BDSFG982', 'instrumentIdentifierName': 'isin', 'exchangeIdentifierValue': 'XASE', 'exchangeIdentifierName': 'MIC', 'dataSource': 'BLOOMBERG', 'errors': [{'code': 'NOT_FOUND', 'detail': 'Entity not found.'}]}\n",
      "{'instrumentIdentifierValue': 'HU0000061726', 'instrumentIdentifierName': 'isin', 'exchangeIdentifierValue': 'XEUR', 'exchangeIdentifierName': 'MIC', 'dataSource': 'BLOOMBERG', 'issuer': {'issuerIdentifierValue': '529900W3MOO00A18X956', 'issuerIdentifierName': 'LEI', 'dataSource': 'BLOOMBERG'}, 'dateFrom': '2021-11-09T05:00:00Z', 'votes': 280000010, 'freeFloat': 78.586, 'freeFloatQuantity': 220.0408}\n",
      "{'instrumentIdentifierValue': 'IE00B1RR8406', 'instrumentIdentifierName': 'isin', 'exchangeIdentifierValue': 'XEUR', 'exchangeIdentifierName': 'MIC', 'dataSource': 'BLOOMBERG', 'errors': [{'code': 'NOT_FOUND', 'detail': 'Entity not found.'}]}\n",
      "{'instrumentIdentifierValue': 'IT0000072618', 'instrumentIdentifierName': 'isin', 'exchangeIdentifierValue': 'XEUR', 'exchangeIdentifierName': 'MIC', 'dataSource': 'BLOOMBERG', 'issuer': {'issuerIdentifierValue': '2W8N8UU78PMDQKZENC08', 'issuerIdentifierName': 'LEI', 'dataSource': 'BLOOMBERG'}, 'dateFrom': '2022-08-04T05:00:00Z', 'votes': 19654621079, 'freeFloat': 89.0597, 'freeFloatQuantity': 17504.34}\n",
      "{'instrumentIdentifierValue': 'JE00BG6L7297', 'instrumentIdentifierName': 'isin', 'exchangeIdentifierValue': 'XLON', 'exchangeIdentifierName': 'MIC', 'dataSource': 'BLOOMBERG', 'errors': [{'code': 'NOT_FOUND', 'detail': 'Entity not found.'}]}\n",
      "{'instrumentIdentifierValue': 'JE00BN574F90', 'instrumentIdentifierName': 'isin', 'exchangeIdentifierValue': 'XGAT', 'exchangeIdentifierName': 'MIC', 'dataSource': 'BLOOMBERG', 'errors': [{'code': 'NOT_FOUND', 'detail': 'Entity not found.'}]}\n",
      "{'instrumentIdentifierValue': 'LU2290522684', 'instrumentIdentifierName': 'isin', 'exchangeIdentifierValue': 'XFRA', 'exchangeIdentifierName': 'MIC', 'dataSource': 'BLOOMBERG', 'issuer': {'issuerIdentifierValue': '2221003M23QLERR89585', 'issuerIdentifierName': 'LEI', 'dataSource': 'BLOOMBERG'}, 'dateFrom': '2021-01-27T05:00:00Z', 'votes': 500000000, 'freeFloat': 53.98, 'freeFloatQuantity': 269.9}\n",
      "{'instrumentIdentifierValue': 'NL0000235190', 'instrumentIdentifierName': 'isin', 'exchangeIdentifierValue': 'OTCM', 'exchangeIdentifierName': 'MIC', 'dataSource': 'BLOOMBERG', 'issuer': {'issuerIdentifierValue': 'MINO79WLOO247M1IL051', 'issuerIdentifierName': 'LEI', 'dataSource': 'BLOOMBERG'}, 'dateFrom': '2022-05-04T05:00:00Z', 'votes': 788136199, 'freeFloat': 74.07, 'freeFloatQuantity': 583.7724}\n",
      "{'instrumentIdentifierValue': 'NL0011821202', 'instrumentIdentifierName': 'isin', 'exchangeIdentifierValue': 'XEUR', 'exchangeIdentifierName': 'MIC', 'dataSource': 'BLOOMBERG', 'errors': [{'code': 'NOT_FOUND', 'detail': 'Entity not found.'}]}\n",
      "{'instrumentIdentifierValue': 'NL0014559478', 'instrumentIdentifierName': 'isin', 'exchangeIdentifierValue': 'XFRA', 'exchangeIdentifierName': 'MIC', 'dataSource': 'BLOOMBERG', 'errors': [{'code': 'NOT_FOUND', 'detail': 'Entity not found.'}]}\n",
      "{'instrumentIdentifierValue': 'NL00150006R6', 'instrumentIdentifierName': 'isin', 'exchangeIdentifierValue': 'XFRA', 'exchangeIdentifierName': 'MIC', 'dataSource': 'BLOOMBERG', 'errors': [{'code': 'NOT_FOUND', 'detail': 'Entity not found.'}]}\n",
      "{'instrumentIdentifierValue': 'PTJMT0AE0001', 'instrumentIdentifierName': 'isin', 'exchangeIdentifierValue': 'XLIS', 'exchangeIdentifierName': 'MIC', 'dataSource': 'BLOOMBERG', 'issuer': {'issuerIdentifierValue': '259400A8SZP10GB5IB19', 'issuerIdentifierName': 'LEI', 'dataSource': 'BLOOMBERG'}, 'dateFrom': '2021-11-29T05:00:00Z', 'votes': 629293220, 'freeFloat': 43.8639, 'freeFloatQuantity': 276.0324}\n",
      "{'instrumentIdentifierValue': 'US00507V1098', 'instrumentIdentifierName': 'isin', 'exchangeIdentifierValue': 'XNGS', 'exchangeIdentifierName': 'MIC', 'dataSource': 'BLOOMBERG', 'issuer': {'issuerIdentifierValue': '549300TPQQDBP9GNOF40', 'issuerIdentifierName': 'LEI', 'dataSource': 'BLOOMBERG'}, 'dateFrom': '2022-07-25T05:00:00Z', 'totalShares': 779053152, 'votes': 782306592, 'freeFloat': 90.4463, 'freeFloatQuantity': 707.5673}\n",
      "{'instrumentIdentifierValue': 'US02079K3059', 'instrumentIdentifierName': 'isin', 'exchangeIdentifierValue': 'XNGS', 'exchangeIdentifierName': 'MIC', 'dataSource': 'BLOOMBERG', 'issuer': {'issuerIdentifierValue': '5493006MHB84DD0ZWV18', 'issuerIdentifierName': 'LEI', 'dataSource': 'BLOOMBERG'}, 'dateFrom': '2022-07-22T05:00:00Z', 'votes': 14846000000, 'freeFloat': 99.7976, 'freeFloatQuantity': 5983.861}\n",
      "{'instrumentIdentifierValue': 'US0382221051', 'instrumentIdentifierName': 'isin', 'exchangeIdentifierValue': 'FINR', 'exchangeIdentifierName': 'MIC', 'dataSource': 'BLOOMBERG', 'issuer': {'issuerIdentifierValue': '41BNNE1AFPNAZELZ6K07', 'issuerIdentifierName': 'LEI', 'dataSource': 'BLOOMBERG'}, 'dateFrom': '2022-05-01T05:00:00Z', 'votes': 869947277, 'freeFloat': 99.6292, 'freeFloatQuantity': 866.7214}\n",
      "{'instrumentIdentifierValue': 'US04271T1007', 'instrumentIdentifierName': 'isin', 'exchangeIdentifierValue': 'XASE', 'exchangeIdentifierName': 'MIC', 'dataSource': 'BLOOMBERG', 'errors': [{'code': 'NOT_FOUND', 'detail': 'Entity not found.'}]}\n",
      "{'instrumentIdentifierValue': 'US04335A1051', 'instrumentIdentifierName': 'isin', 'exchangeIdentifierValue': 'XASE', 'exchangeIdentifierName': 'MIC', 'dataSource': 'BLOOMBERG', 'errors': [{'code': 'NOT_FOUND', 'detail': 'Entity not found.'}]}\n",
      "{'instrumentIdentifierValue': 'US0533321024', 'instrumentIdentifierName': 'isin', 'exchangeIdentifierValue': 'XNYS', 'exchangeIdentifierName': 'MIC', 'dataSource': 'BLOOMBERG', 'errors': [{'code': 'NOT_FOUND', 'detail': 'Entity not found.'}]}\n",
      "{'instrumentIdentifierValue': 'US05722G1004', 'instrumentIdentifierName': 'isin', 'exchangeIdentifierValue': 'XASE', 'exchangeIdentifierName': 'MIC', 'dataSource': 'BLOOMBERG', 'errors': [{'code': 'NOT_FOUND', 'detail': 'Entity not found.'}]}\n",
      "{'instrumentIdentifierValue': 'US0605051046', 'instrumentIdentifierName': 'isin', 'exchangeIdentifierValue': 'FINR', 'exchangeIdentifierName': 'MIC', 'dataSource': 'BLOOMBERG', 'errors': [{'code': 'NOT_FOUND', 'detail': 'Entity not found.'}]}\n",
      "{'instrumentIdentifierValue': 'US12529R1077', 'instrumentIdentifierName': 'isin', 'exchangeIdentifierValue': 'XASE', 'exchangeIdentifierName': 'MIC', 'dataSource': 'BLOOMBERG', 'errors': [{'code': 'NOT_FOUND', 'detail': 'Entity not found.'}]}\n",
      "{'instrumentIdentifierValue': 'US16115Q3083', 'instrumentIdentifierName': 'isin', 'exchangeIdentifierValue': 'XASE', 'exchangeIdentifierName': 'MIC', 'dataSource': 'BLOOMBERG', 'errors': [{'code': 'NOT_FOUND', 'detail': 'Entity not found.'}]}\n",
      "{'instrumentIdentifierValue': 'US2270461096', 'instrumentIdentifierName': 'isin', 'exchangeIdentifierValue': 'XNGS', 'exchangeIdentifierName': 'MIC', 'dataSource': 'BLOOMBERG', 'errors': [{'code': 'NOT_FOUND', 'detail': 'Entity not found.'}]}\n",
      "{'instrumentIdentifierValue': 'US2544231069', 'instrumentIdentifierName': 'isin', 'exchangeIdentifierValue': 'XFRA', 'exchangeIdentifierName': 'MIC', 'dataSource': 'BLOOMBERG', 'errors': [{'code': 'NOT_FOUND', 'detail': 'Entity not found.'}]}\n",
      "{'instrumentIdentifierValue': 'US30303M1027', 'instrumentIdentifierName': 'isin', 'exchangeIdentifierValue': 'FINR', 'exchangeIdentifierName': 'MIC', 'dataSource': 'BLOOMBERG', 'issuer': {'issuerIdentifierValue': 'BQ4BKCS1HXDV9HN80Z93', 'issuerIdentifierName': 'LEI', 'dataSource': 'BLOOMBERG'}, 'dateFrom': '2022-07-22T05:00:00Z', 'votes': 2280672002, 'freeFloat': 99.4887, 'freeFloatQuantity': 2269.011}\n",
      "{'instrumentIdentifierValue': 'US35671D8570', 'instrumentIdentifierName': 'isin', 'exchangeIdentifierValue': 'XNYS', 'exchangeIdentifierName': 'MIC', 'dataSource': 'BLOOMBERG', 'issuer': {'issuerIdentifierValue': '549300IRDTHJQ1PVET45', 'issuerIdentifierName': 'LEI', 'dataSource': 'BLOOMBERG'}, 'dateFrom': '2022-07-29T05:00:00Z', 'totalShares': 1457000000, 'votes': 1429270314, 'freeFloat': 99.5001, 'freeFloatQuantity': 1422.125}\n",
      "{'instrumentIdentifierValue': 'US37045V1008', 'instrumentIdentifierName': 'isin', 'exchangeIdentifierValue': 'FINR', 'exchangeIdentifierName': 'MIC', 'dataSource': 'BLOOMBERG', 'issuer': {'issuerIdentifierValue': '54930070NSV60J38I987', 'issuerIdentifierName': 'LEI', 'dataSource': 'BLOOMBERG'}, 'dateFrom': '2022-07-13T05:00:00Z', 'votes': 1458048958, 'freeFloat': 96.2064, 'freeFloatQuantity': 1402.736}\n",
      "{'instrumentIdentifierValue': 'US4464131063', 'instrumentIdentifierName': 'isin', 'exchangeIdentifierValue': 'XNYS', 'exchangeIdentifierName': 'MIC', 'dataSource': 'BLOOMBERG', 'errors': [{'code': 'NOT_FOUND', 'detail': 'Entity not found.'}]}\n",
      "{'instrumentIdentifierValue': 'US46625H1005', 'instrumentIdentifierName': 'isin', 'exchangeIdentifierValue': 'FINR', 'exchangeIdentifierName': 'MIC', 'dataSource': 'BLOOMBERG', 'issuer': {'issuerIdentifierValue': '8I5DZWZKVSZI1NUHU748', 'issuerIdentifierName': 'LEI', 'dataSource': 'BLOOMBERG'}, 'dateFrom': '2022-06-30T05:00:00Z', 'votes': 2932572390, 'freeFloat': 99.0326, 'freeFloatQuantity': 2904.203}\n",
      "{'instrumentIdentifierValue': 'US55024U1097', 'instrumentIdentifierName': 'isin', 'exchangeIdentifierValue': 'XFRA', 'exchangeIdentifierName': 'MIC', 'dataSource': 'BLOOMBERG', 'errors': [{'code': 'NOT_FOUND', 'detail': 'Entity not found.'}]}\n",
      "{'instrumentIdentifierValue': 'US56117J1007', 'instrumentIdentifierName': 'isin', 'exchangeIdentifierValue': 'XFRA', 'exchangeIdentifierName': 'MIC', 'dataSource': 'BLOOMBERG', 'errors': [{'code': 'NOT_FOUND', 'detail': 'Entity not found.'}]}\n",
      "{'instrumentIdentifierValue': 'US5738741041', 'instrumentIdentifierName': 'isin', 'exchangeIdentifierValue': 'XASE', 'exchangeIdentifierName': 'MIC', 'dataSource': 'BLOOMBERG', 'errors': [{'code': 'NOT_FOUND', 'detail': 'Entity not found.'}]}\n",
      "{'instrumentIdentifierValue': 'US64125C1099', 'instrumentIdentifierName': 'isin', 'exchangeIdentifierValue': 'XNGS', 'exchangeIdentifierName': 'MIC', 'dataSource': 'BLOOMBERG', 'issuer': {'issuerIdentifierValue': '549300FECER0XBN49756', 'issuerIdentifierName': 'LEI', 'dataSource': 'BLOOMBERG'}, 'dateFrom': '2022-07-28T05:00:00Z', 'votes': 95639321, 'freeFloat': 98.6922, 'freeFloatQuantity': 94.3886}\n",
      "{'instrumentIdentifierValue': 'US6512291062', 'instrumentIdentifierName': 'isin', 'exchangeIdentifierValue': 'FINR', 'exchangeIdentifierName': 'MIC', 'dataSource': 'BLOOMBERG', 'issuer': {'issuerIdentifierValue': '549300LWGYFM1TVO1Z12', 'issuerIdentifierName': 'LEI', 'dataSource': 'BLOOMBERG'}, 'dateFrom': '2022-07-25T05:00:00Z', 'votes': 413600000, 'freeFloat': 91.3889, 'freeFloatQuantity': 377.9846}\n",
      "{'instrumentIdentifierValue': 'US70450Y1038', 'instrumentIdentifierName': 'isin', 'exchangeIdentifierValue': 'XASE', 'exchangeIdentifierName': 'MIC', 'dataSource': 'BLOOMBERG', 'issuer': {'issuerIdentifierValue': '5493005X2GO78EFZ3E94', 'issuerIdentifierName': 'LEI', 'dataSource': 'BLOOMBERG'}, 'dateFrom': '2022-07-27T05:00:00Z', 'totalShares': 1168000000, 'votes': 1156475874, 'freeFloat': 99.6828, 'freeFloatQuantity': 1152.807}\n",
      "{'instrumentIdentifierValue': 'US7458671010', 'instrumentIdentifierName': 'isin', 'exchangeIdentifierValue': 'XNYS', 'exchangeIdentifierName': 'MIC', 'dataSource': 'BLOOMBERG', 'errors': [{'code': 'NOT_FOUND', 'detail': 'Entity not found.'}]}\n",
      "{'instrumentIdentifierValue': 'US7475251036', 'instrumentIdentifierName': 'isin', 'exchangeIdentifierValue': 'XNAS', 'exchangeIdentifierName': 'MIC', 'dataSource': 'BLOOMBERG', 'issuer': {'issuerIdentifierValue': 'H1J8DDZKZP6H7RWC0H53', 'issuerIdentifierName': 'LEI', 'dataSource': 'BLOOMBERG'}, 'dateFrom': '2022-07-25T05:00:00Z', 'totalShares': 1125000000, 'votes': 1123000000, 'freeFloat': 99.8512, 'freeFloatQuantity': 1121.329}\n",
      "{'instrumentIdentifierValue': 'US76009N1000', 'instrumentIdentifierName': 'isin', 'exchangeIdentifierValue': 'XFRA', 'exchangeIdentifierName': 'MIC', 'dataSource': 'BLOOMBERG', 'issuer': {'issuerIdentifierValue': '529900QUHE15UQNCCJ63', 'issuerIdentifierName': 'LEI', 'dataSource': 'BLOOMBERG'}, 'dateFrom': '2022-07-27T05:00:00Z', 'votes': 59198975, 'freeFloat': 85.3768, 'freeFloatQuantity': 50.5422}\n",
      "{'instrumentIdentifierValue': 'US87612E1064', 'instrumentIdentifierName': 'isin', 'exchangeIdentifierValue': 'XEUR', 'exchangeIdentifierName': 'MIC', 'dataSource': 'BLOOMBERG', 'issuer': {'issuerIdentifierValue': '8WDDFXB5T1Z6J0XC1L66', 'issuerIdentifierName': 'LEI', 'dataSource': 'BLOOMBERG'}, 'dateFrom': '2022-08-19T05:00:00Z', 'votes': 460262630, 'freeFloat': 99.7094, 'freeFloatQuantity': 458.925}\n",
      "{'instrumentIdentifierValue': 'US9182041080', 'instrumentIdentifierName': 'isin', 'exchangeIdentifierValue': 'XASE', 'exchangeIdentifierName': 'MIC', 'dataSource': 'BLOOMBERG', 'issuer': {'issuerIdentifierValue': 'CWAJJ9DJ5Z7P057HV541', 'issuerIdentifierName': 'LEI', 'dataSource': 'BLOOMBERG'}, 'dateFrom': '2022-07-30T05:00:00Z', 'votes': 388494512, 'freeFloat': 89.6904, 'freeFloatQuantity': 348.4424}\n",
      "{'instrumentIdentifierValue': 'US9264001028', 'instrumentIdentifierName': 'isin', 'exchangeIdentifierValue': 'XASE', 'exchangeIdentifierName': 'MIC', 'dataSource': 'BLOOMBERG', 'errors': [{'code': 'NOT_FOUND', 'detail': 'Entity not found.'}]}\n",
      "{'instrumentIdentifierValue': 'US9497461015', 'instrumentIdentifierName': 'isin', 'exchangeIdentifierValue': 'XASE', 'exchangeIdentifierName': 'MIC', 'dataSource': 'BLOOMBERG', 'issuer': {'issuerIdentifierValue': 'PBLD0EJDB5FWOLXP3B76', 'issuerIdentifierName': 'LEI', 'dataSource': 'BLOOMBERG'}, 'dateFrom': '2022-07-21T05:00:00Z', 'votes': 3793049509, 'freeFloat': 99.8811, 'freeFloatQuantity': 3788.541}\n"
     ]
    }
   ],
   "source": [
    "for i in d['responses']:\n",
    "    print(i)"
   ]
  },
  {
   "cell_type": "code",
   "execution_count": 31,
   "metadata": {},
   "outputs": [
    {
     "name": "stdout",
     "output_type": "stream",
     "text": [
      "AN8068571086 1414388264 2022-06-30 00:00:00\n",
      "AT0000652011 429800000 2022-08-18 00:00:00\n",
      "AT0000821103 309000000 2022-06-10 00:00:00\n",
      "BE0003565737 416883592 2021-12-20 00:00:00\n",
      "CA0585861085 298168858 2022-07-29 00:00:00\n",
      "CH0012138530 2650747720 2022-03-21 00:00:00\n",
      "CZ0008019106 190049260 2022-09-23 00:00:00\n",
      "DE0005190003 601995196 2019-03-21 00:00:00\n",
      "DE0005552004 1239059409 2020-11-09 00:00:00\n",
      "DE0006231004 1305921137 2021-09-30 00:00:00\n",
      "DE0007100000 1069837447 2018-02-01 00:00:00\n",
      "DE0007236101 850000000 2017-12-31 00:00:00\n",
      "DE0007500001 622531741 2017-12-31 00:00:00\n",
      "DE0007664039 295089818 2018-08-28 00:00:00\n",
      "DE000A0BL849 16036459 2021-11-09 00:00:00\n",
      "DE000A0D6554 211946227 2022-07-25 00:00:00\n",
      "ES0148396007 3116652000 2022-08-18 00:00:00\n",
      "ES0165386014 124950876 2022-09-23 00:00:00\n",
      "FR0000045072 3042560716 2022-09-05 00:00:00\n",
      "FR0010451203 306893023 2022-07-08 00:00:00\n",
      "HU0000061726 280000010 2021-11-09 00:00:00\n",
      "IT0000072618 19654621079 2022-08-04 00:00:00\n",
      "LU2290522684 500000000 2021-01-27 00:00:00\n",
      "NL0000235190 788136199 2022-05-04 00:00:00\n",
      "PTJMT0AE0001 629293220 2021-11-29 00:00:00\n",
      "US00507V1098 782306592 2022-07-25 00:00:00\n",
      "US02079K3059 14846000000 2022-07-22 00:00:00\n",
      "US0382221051 869947277 2022-05-01 00:00:00\n",
      "US30303M1027 2280672002 2022-07-22 00:00:00\n",
      "US35671D8570 1429270314 2022-07-29 00:00:00\n",
      "US37045V1008 1458048958 2022-07-13 00:00:00\n",
      "US46625H1005 2932572390 2022-06-30 00:00:00\n",
      "US64125C1099 95639321 2022-07-28 00:00:00\n",
      "US6512291062 413600000 2022-07-25 00:00:00\n",
      "US70450Y1038 1156475874 2022-07-27 00:00:00\n",
      "US7475251036 1123000000 2022-07-25 00:00:00\n",
      "US76009N1000 59198975 2022-07-27 00:00:00\n",
      "US87612E1064 460262630 2022-08-19 00:00:00\n",
      "US9182041080 388494512 2022-07-30 00:00:00\n",
      "US9497461015 3793049509 2022-07-21 00:00:00\n",
      "40\n"
     ]
    }
   ],
   "source": [
    "o=0\n",
    "for p in foreign_instrument:\n",
    "\n",
    "    vote,date = Votes(p)\n",
    "    date = dt.strptime(date[:10], '%Y-%m-%d')\n",
    "    o+=1\n",
    "    print(p,vote,date)\n",
    "print(o)"
   ]
  },
  {
   "cell_type": "markdown",
   "metadata": {},
   "source": [
    "##### Get data from response stable mic"
   ]
  },
  {
   "cell_type": "code",
   "execution_count": 32,
   "metadata": {},
   "outputs": [],
   "source": [
    "m = response_capitalinfo_stable_mic.json()\n",
    "kroki = []\n",
    "\n",
    "def lista_stable_mic():\n",
    "    lista_foreign_insert_stable_mic = []\n",
    "    l = 0\n",
    "    for c in m['responses']:\n",
    "    \n",
    "        if str(c) == \"\"\"{'code': 'NO_SUCH_INSTRUMENT', 'detail': \"IssuerCapitalInfo doesn't exist\"}\"\"\":\n",
    "            del c           \n",
    "            l+=1\n",
    "        elif 'votes'in c:\n",
    "            lista_foreign_insert_stable_mic.append(m['responses'][l]['instrumentIdentifierValue'])\n",
    "            l+=1\n",
    "        else:\n",
    "            del c\n",
    "            l+=1\n",
    "            \n",
    "    return lista_foreign_insert_stable_mic      \n",
    "\n",
    "def Votes_stable_mic(isin):\n",
    "\n",
    "    l = 0\n",
    "    for k in m['responses']:\n",
    "\n",
    "        if str(k) == \"\"\"{'code': 'NO_SUCH_INSTRUMENT', 'detail': \"IssuerCapitalInfo doesn't exist\"}\"\"\":\n",
    "            del k\n",
    "            l+=1\n",
    "            \n",
    "            \n",
    "        elif isin == m['responses'][l]['instrumentIdentifierValue']:\n",
    "            \n",
    "            vote_mic = m['responses'][l]['votes']\n",
    "            date_mic = m['responses'][l]['dateFrom']\n",
    "\n",
    "\n",
    "#             date = pd.to_datetime(datefrom)\n",
    "            return vote_mic,date_mic\n",
    "            \n",
    "        elif isin != m['responses'][l]['instrumentIdentifierValue']:\n",
    "            l += 1\n",
    "        else:\n",
    "            continue\n",
    "            l+=1\n",
    "    "
   ]
  },
  {
   "cell_type": "code",
   "execution_count": 33,
   "metadata": {},
   "outputs": [
    {
     "name": "stdout",
     "output_type": "stream",
     "text": [
      "[]\n"
     ]
    }
   ],
   "source": [
    "foreign_instrument_stable_mic = lista_stable_mic()\n",
    "print(foreign_instrument_stable_mic)"
   ]
  },
  {
   "cell_type": "code",
   "execution_count": 34,
   "metadata": {},
   "outputs": [
    {
     "name": "stdout",
     "output_type": "stream",
     "text": [
      "None\n"
     ]
    }
   ],
   "source": [
    "x = Votes_stable_mic('US46625H1005')\n",
    "print(x)"
   ]
  },
  {
   "cell_type": "code",
   "execution_count": 35,
   "metadata": {},
   "outputs": [
    {
     "name": "stdout",
     "output_type": "stream",
     "text": [
      "0\n"
     ]
    }
   ],
   "source": [
    "v=0\n",
    "for b in foreign_instrument_stable_mic:\n",
    "\n",
    "    vote_mic,date_mic = Votes_stable_mic(b)\n",
    "    date_mic = dt.strptime(date_mic[:10], '%Y-%m-%d')\n",
    "    v+=1\n",
    "    print(b,vote_mic,date_mic)\n",
    "print(v)"
   ]
  },
  {
   "cell_type": "markdown",
   "metadata": {},
   "source": [
    "### Insert data "
   ]
  },
  {
   "cell_type": "code",
   "execution_count": 36,
   "metadata": {},
   "outputs": [],
   "source": [
    "insert_query = '''insert into Tam_Foreign_Stock_Informations (isin, Votes,Date) \n",
    "VALUES (?,?,?);'''\n",
    "\n",
    "\n",
    "def create_lista_insert():\n",
    "    lista_foreign_insert = []\n",
    "\n",
    "    for instruments in foreign_instrument:\n",
    "        vote,date = Votes(instruments)\n",
    "        elements = []\n",
    "        elements.append(instruments)\n",
    "        elements.append(vote)\n",
    "        elements.append(date)\n",
    "        lista_foreign_insert.append(elements)\n",
    "    \n",
    "    for instrumentsmic in foreign_instrument_stable_mic:\n",
    "        vote_mic,date_mic = Votes_stable_mic(instrumentsmic)\n",
    "        elements = []\n",
    "        elements.append(instrumentsmic)\n",
    "        elements.append(vote_mic)\n",
    "        elements.append(date_mic)\n",
    "        lista_foreign_insert.append(elements)\n",
    "    \n",
    "    return lista_foreign_insert\n",
    "\n",
    "insert_date =create_lista_insert()"
   ]
  },
  {
   "cell_type": "code",
   "execution_count": 37,
   "metadata": {},
   "outputs": [],
   "source": [
    "lista_deleteow = []\n",
    "for i in cursor.execute(\"select isin,votes from Tam_Foreign_Stock_Informations\"):\n",
    "    for isin in insert_date:\n",
    "        if i[0] == isin[0] and i[1] == isin[1]:\n",
    "            lista_deleteow.append(i[0])\n",
    "\n",
    "\n",
    "for i in lista_deleteow:\n",
    "    cursor.execute(\"delete Tam_Foreign_Stock_Informations where isin =? \",i)\n",
    "\n",
    "\n",
    "for row in insert_date:\n",
    "    values = (row[0],row[1],row[2])\n",
    "    cursor.execute(insert_query,values)\n",
    "\n",
    "connection.commit()\n",
    "\n",
    "    "
   ]
  }
 ],
 "metadata": {
  "kernelspec": {
   "display_name": "Python 3",
   "language": "python",
   "name": "python3"
  },
  "language_info": {
   "codemirror_mode": {
    "name": "ipython",
    "version": 3
   },
   "file_extension": ".py",
   "mimetype": "text/x-python",
   "name": "python",
   "nbconvert_exporter": "python",
   "pygments_lexer": "ipython3",
   "version": "3.7.7"
  },
  "toc": {
   "base_numbering": 1,
   "nav_menu": {},
   "number_sections": true,
   "sideBar": true,
   "skip_h1_title": false,
   "title_cell": "Table of Contents",
   "title_sidebar": "Contents",
   "toc_cell": false,
   "toc_position": {},
   "toc_section_display": true,
   "toc_window_display": false
  }
 },
 "nbformat": 4,
 "nbformat_minor": 4
}

{
 "cells": [
  {
   "cell_type": "code",
   "execution_count": 1,
   "metadata": {},
   "outputs": [],
   "source": [
    "from __future__ import unicode_literals\n",
    "import requests\n",
    "from requests.auth import AuthBase\n",
    "import datetime\n",
    "from datetime import timedelta\n",
    "import quandl\n",
    "import pandas as pd\n",
    "import pyodbc\n",
    "import sqlalchemy as db"
   ]
  },
  {
   "cell_type": "code",
   "execution_count": 2,
   "metadata": {},
   "outputs": [
    {
     "name": "stdout",
     "output_type": "stream",
     "text": [
      "date: 2022-09-29 ere: 2022-09-28 today: 2022-09-30\n"
     ]
    }
   ],
   "source": [
    "def set_day():\n",
    "    today = datetime.date.today()\n",
    "    weekend = set([5,6])\n",
    "    yesterday = today - timedelta(days=1)\n",
    "    if yesterday.weekday() not in weekend:\n",
    "        yesterday = today - timedelta(days=1)\n",
    "        date = yesterday.strftime('%Y-%m-%d')\n",
    "    elif yesterday.weekday() == 5:\n",
    "        yesterday = today - timedelta(days=3)\n",
    "        date = yesterday.strftime('%Y-%m-%d')\n",
    "    elif yesterday.weekday() == 6:\n",
    "        yesterday = today - timedelta(days=3)\n",
    "        date = yesterday.strftime('%Y-%m-%d')\n",
    "\n",
    "\n",
    "    ereyesterday = today - timedelta(days=2)\n",
    "    if ereyesterday.weekday() not in weekend:\n",
    "        ereyesterday = today - timedelta(days=2)\n",
    "        ere = ereyesterday.strftime('%Y-%m-%d')\n",
    "    elif ereyesterday.weekday() == 5:\n",
    "        ereyesterday = today - timedelta(days=4)\n",
    "        ere = ereyesterday.strftime('%Y-%m-%d')\n",
    "    elif ereyesterday.weekday() == 6:\n",
    "        ereyesterday = today - timedelta(days=4)\n",
    "        ere = ereyesterday.strftime('%Y-%m-%d')\n",
    "    return date,ere,today\n",
    "\n",
    "    twodayago = today - timedelta(days=3)\n",
    "    twodays = twodayago.strftime('%Y-%m-%d')\n",
    "\n",
    "    \n",
    "date, ere, today = set_day()\n",
    "\n",
    "print(\"date:\", date, \"ere:\", ere, \"today:\", today )"
   ]
  },
  {
   "cell_type": "markdown",
   "metadata": {},
   "source": [
    "### Downloading quotes"
   ]
  },
  {
   "cell_type": "code",
   "execution_count": 3,
   "metadata": {},
   "outputs": [],
   "source": [
    "quandl.ApiConfig.api_key = 'qsiFMyb5U2E5uXy3z4Dz'\n",
    "bond1 = quandl.get('BUNDESBANK/BBK01_WT4149',start_date=date,end_date=date)\n",
    "bond2 = quandl.get('BUNDESBANK/BBK01_WT4165',start_date=date,end_date=date)\n",
    "bond3 = quandl.get('BUNDESBANK/BBK01_WT4189',start_date=date,end_date=date)\n",
    "future = quandl.get('EUREX/FGBLU2022',start_date=date,end_date=date)"
   ]
  },
  {
   "cell_type": "markdown",
   "metadata": {},
   "source": [
    "### Calculation"
   ]
  },
  {
   "cell_type": "markdown",
   "metadata": {},
   "source": [
    "#### downloading data from API"
   ]
  },
  {
   "cell_type": "code",
   "execution_count": 1,
   "metadata": {},
   "outputs": [
    {
     "ename": "NameError",
     "evalue": "name 'requests' is not defined",
     "output_type": "error",
     "traceback": [
      "\u001b[1;31m---------------------------------------------------------------------------\u001b[0m",
      "\u001b[1;31mNameError\u001b[0m                                 Traceback (most recent call last)",
      "\u001b[1;32m<ipython-input-1-cbd7ce65ff13>\u001b[0m in \u001b[0;36m<module>\u001b[1;34m\u001b[0m\n\u001b[1;32m----> 1\u001b[1;33m \u001b[1;32mclass\u001b[0m \u001b[0mOAuth2\u001b[0m\u001b[1;33m(\u001b[0m\u001b[0mrequests\u001b[0m\u001b[1;33m.\u001b[0m\u001b[0mauth\u001b[0m\u001b[1;33m.\u001b[0m\u001b[0mAuthBase\u001b[0m\u001b[1;33m)\u001b[0m\u001b[1;33m:\u001b[0m\u001b[1;33m\u001b[0m\u001b[1;33m\u001b[0m\u001b[0m\n\u001b[0m\u001b[0;32m      2\u001b[0m     \u001b[1;32mdef\u001b[0m \u001b[0m__init__\u001b[0m\u001b[1;33m(\u001b[0m\u001b[0mself\u001b[0m\u001b[1;33m,\u001b[0m \u001b[0muser\u001b[0m\u001b[1;33m,\u001b[0m \u001b[0msignature\u001b[0m\u001b[1;33m)\u001b[0m\u001b[1;33m:\u001b[0m\u001b[1;33m\u001b[0m\u001b[1;33m\u001b[0m\u001b[0m\n\u001b[0;32m      3\u001b[0m         \u001b[0mself\u001b[0m\u001b[1;33m.\u001b[0m\u001b[0msignature\u001b[0m\u001b[1;33m=\u001b[0m\u001b[0msignature\u001b[0m\u001b[1;33m\u001b[0m\u001b[1;33m\u001b[0m\u001b[0m\n\u001b[0;32m      4\u001b[0m         \u001b[0mself\u001b[0m\u001b[1;33m.\u001b[0m\u001b[0muser\u001b[0m\u001b[1;33m=\u001b[0m\u001b[0muser\u001b[0m\u001b[1;33m\u001b[0m\u001b[1;33m\u001b[0m\u001b[0m\n\u001b[0;32m      5\u001b[0m     \u001b[1;32mdef\u001b[0m \u001b[0m__call__\u001b[0m\u001b[1;33m(\u001b[0m\u001b[0mself\u001b[0m\u001b[1;33m,\u001b[0m \u001b[0mr\u001b[0m\u001b[1;33m:\u001b[0m \u001b[0mrequests\u001b[0m\u001b[1;33m.\u001b[0m\u001b[0mRequest\u001b[0m\u001b[1;33m)\u001b[0m\u001b[1;33m:\u001b[0m\u001b[1;33m\u001b[0m\u001b[1;33m\u001b[0m\u001b[0m\n",
      "\u001b[1;31mNameError\u001b[0m: name 'requests' is not defined"
     ]
    }
   ],
   "source": [
    "\n",
    "class OAuth2(requests.auth.AuthBase):\n",
    "    def __init__(self, user, signature):\n",
    "        self.signature=signature\n",
    "        self.user=user\n",
    "    def __call__(self, r: requests.Request):\n",
    "        r.headers[\"x-signature\"] = self.signature\n",
    "        r.headers['Accept'] = 'application/json'\n",
    "        r.headers['Content-Type'] = 'application/json'\n",
    "        print(r.headers)\n",
    "        return r\n",
    "url = 'xxx/api/v1/storage/instruments/cheapestToDeliverDefinitions/future?instrumentIdentifierValue=FGBL%20DEC22&instrumentIdentifierName=CONTRACT&exchangeIdentifierValue=EUX&exchangeIdentifierName=BBG_EXCH&dataSource=EUREX&apiKey=xxx'\n",
    "\n",
    "try:\n",
    "    response = requests.get(url, auth=OAuth2('xxx/xxx','xxx')\n",
    "                            , timeout=None)\n",
    "except requests.exceptions.HTTPError as errh:\n",
    "    print (\"Http Error:\",errh)\n",
    "except requests.exceptions.ConnectionError as errc:\n",
    "    print (\"Error Connecting:\",errc)\n",
    "except requests.exceptions.Timeout as errt:\n",
    "    print (\"Timeout Error:\",errt)\n",
    "except requests.exceptions.RequestException as err:\n",
    "    print (\"OOps: Something Else\",err)\n",
    "except Exception:\n",
    "    pass\n",
    "except:\n",
    "    j=j+1\n",
    "\n",
    "print(response.status_code)\n",
    "print(response.text)"
   ]
  },
  {
   "cell_type": "code",
   "execution_count": 5,
   "metadata": {},
   "outputs": [],
   "source": [
    "resp= response.json()"
   ]
  },
  {
   "cell_type": "code",
   "execution_count": 6,
   "metadata": {},
   "outputs": [
    {
     "data": {
      "text/plain": [
       "{'instrumentIdentifierValue': 'FGBL DEC22',\n",
       " 'instrumentIdentifierName': 'CONTRACT',\n",
       " 'exchangeIdentifierValue': 'EUX',\n",
       " 'exchangeIdentifierName': 'BBG_EXCH',\n",
       " 'dataSource': 'EUREX',\n",
       " 'bonds': [{'instrumentIdentifierValue': 'DE0001102580',\n",
       "   'instrumentIdentifierName': 'isin',\n",
       "   'exchangeIdentifierValue': 'YYYY',\n",
       "   'exchangeIdentifierName': 'MIC',\n",
       "   'convFactor': 0.585788},\n",
       "  {'instrumentIdentifierValue': 'DE0001030732',\n",
       "   'instrumentIdentifierName': 'isin',\n",
       "   'exchangeIdentifierValue': 'YYYY',\n",
       "   'exchangeIdentifierName': 'MIC',\n",
       "   'convFactor': 0.60325},\n",
       "  {'instrumentIdentifierValue': 'DE0001102564',\n",
       "   'instrumentIdentifierName': 'isin',\n",
       "   'exchangeIdentifierValue': 'YYYY',\n",
       "   'exchangeIdentifierName': 'MIC',\n",
       "   'convFactor': 0.60325}]}"
      ]
     },
     "execution_count": 6,
     "metadata": {},
     "output_type": "execute_result"
    }
   ],
   "source": [
    "resp"
   ]
  },
  {
   "cell_type": "markdown",
   "metadata": {},
   "source": [
    "#### Calculate CTD "
   ]
  },
  {
   "cell_type": "code",
   "execution_count": 7,
   "metadata": {},
   "outputs": [],
   "source": [
    "def get_CF():\n",
    "    set_instruments = []\n",
    "    l = 0\n",
    "    for i in resp['bonds']:\n",
    "        set_elements = []\n",
    "        set_elements.append(resp['bonds'][l]['instrumentIdentifierValue'])\n",
    "        set_elements.append(resp['bonds'][l]['convFactor'])\n",
    "        set_instruments.append(set_elements)\n",
    "        l+=1\n",
    "    return set_instruments"
   ]
  },
  {
   "cell_type": "code",
   "execution_count": 8,
   "metadata": {},
   "outputs": [
    {
     "data": {
      "text/html": [
       "<div>\n",
       "<style scoped>\n",
       "    .dataframe tbody tr th:only-of-type {\n",
       "        vertical-align: middle;\n",
       "    }\n",
       "\n",
       "    .dataframe tbody tr th {\n",
       "        vertical-align: top;\n",
       "    }\n",
       "\n",
       "    .dataframe thead th {\n",
       "        text-align: right;\n",
       "    }\n",
       "</style>\n",
       "<table border=\"1\" class=\"dataframe\">\n",
       "  <thead>\n",
       "    <tr style=\"text-align: right;\">\n",
       "      <th></th>\n",
       "      <th>0</th>\n",
       "      <th>1</th>\n",
       "    </tr>\n",
       "  </thead>\n",
       "  <tbody>\n",
       "    <tr>\n",
       "      <th>0</th>\n",
       "      <td>DE0001102580</td>\n",
       "      <td>0.585788</td>\n",
       "    </tr>\n",
       "    <tr>\n",
       "      <th>1</th>\n",
       "      <td>DE0001030732</td>\n",
       "      <td>0.603250</td>\n",
       "    </tr>\n",
       "    <tr>\n",
       "      <th>2</th>\n",
       "      <td>DE0001102564</td>\n",
       "      <td>0.603250</td>\n",
       "    </tr>\n",
       "  </tbody>\n",
       "</table>\n",
       "</div>"
      ],
      "text/plain": [
       "              0         1\n",
       "0  DE0001102580  0.585788\n",
       "1  DE0001030732  0.603250\n",
       "2  DE0001102564  0.603250"
      ]
     },
     "execution_count": 8,
     "metadata": {},
     "output_type": "execute_result"
    }
   ],
   "source": [
    "CF = pd.DataFrame(get_CF())\n",
    "CF"
   ]
  },
  {
   "cell_type": "code",
   "execution_count": 9,
   "metadata": {},
   "outputs": [],
   "source": [
    "future_price = future.iloc[0]['Settle']\n",
    "\n",
    "future_volume = future.iloc[0]['Volume']\n",
    "\n",
    "future_turnover = future.iloc[0]['Prev. Day Open Interest']\n"
   ]
  },
  {
   "cell_type": "code",
   "execution_count": 10,
   "metadata": {},
   "outputs": [
    {
     "data": {
      "text/plain": [
       "0.60325"
      ]
     },
     "execution_count": 10,
     "metadata": {},
     "output_type": "execute_result"
    }
   ],
   "source": [
    "index_ratio = CF.loc[1,1]\n",
    "index_ratio"
   ]
  },
  {
   "cell_type": "code",
   "execution_count": 11,
   "metadata": {},
   "outputs": [],
   "source": [
    "def calculate(price_bond,price_future):\n",
    "    coupon = 0\n",
    "    index_ratio = CF.loc[1,1]\n",
    "    indexprice_future = (price_bond/index_ratio + coupon)/100\n",
    "    bond_future = (price_future + coupon)*index_ratio\n",
    "    CTD = bond_future - (price_bond+coupon)\n",
    "    return indexprice_future, bond_future, CTD"
   ]
  },
  {
   "cell_type": "code",
   "execution_count": 12,
   "metadata": {},
   "outputs": [],
   "source": [
    "# calculate(bond1.iloc[0]['Value'], future_price)\n",
    "indexprice_future, bond_future, CTD = calculate(bond_price, future_price)"
   ]
  },
  {
   "cell_type": "markdown",
   "metadata": {},
   "source": [
    "### Inserts"
   ]
  },
  {
   "cell_type": "code",
   "execution_count": 13,
   "metadata": {},
   "outputs": [],
   "source": [
    "connection = pyodbc.connect('DRIVER={ODBC Driver 17 for SQL Server};SERVER=xxx;DATABASE=xxx;UID=xxx;PWD=xxx')\n",
    "cursor = connection.cursor()\n",
    "\n",
    "\n",
    "# insert_value = [date,'BBG00YGD2NY9','DE0001030708','2021-08-15',0,bond1.iloc[0]['Value'],bond1.iloc[0]['Value'],bond_future,CTD,'True']\n",
    "insert_value = [date, 'DE000C6R0452', 'DE0001102564', '2022-08-15',\n",
    "                0, bond_price, bond_price, bond_future, CTD, 'True']\n",
    "insert_query = '''insert into TAM_BondFuturesCTD (Date, FuturesISIN, BondISIN,LastCouponDate,AccruedInterest,CleanPrice,DirtyPrice,FuturesPrice,DeliveryPrice,CTD) \n",
    "VALUES (?,?,?,?,?,?,?,?,?,?);'''\n",
    "\n",
    "cursor.execute(insert_query, insert_value)\n",
    "connection.commit()\n",
    "\n",
    "cursor_price = connection.cursor()\n",
    "cursor_price.execute(\n",
    "    \"select Date,Volume,Turnover from Tam_Stooq_Data where Date >=? and TickerId = 493 order by Date desc\", date)\n",
    "connection.commit()\n",
    "\n",
    "insert_value_price = [493, date,indexprice_future,future_volume,future_turnover]\n",
    "insert_query_price ='''insert into Tam_Stooq_Data (TickerId, Date, Value,Volume,Turnover) \n",
    "VALUES (?,?,?,?,?);'''\n",
    "for row in cursor_price.execute(\"select Date,Volume,Turnover from Tam_Stooq_Data where Date >=? and TickerId = 493 order by Date desc\",date).fetchall():\n",
    "    if date == str(row[0]):\n",
    "        cursor.execute(\"delete Tam_Stooq_Data where Date = ?\", date)\n",
    "        connection.commit()\n",
    "\n",
    "cursor.execute(insert_query_price,insert_value_price)\n",
    "connection.commit()"
   ]
  }
 ],
 "metadata": {
  "kernelspec": {
   "display_name": "Python 3",
   "language": "python",
   "name": "python3"
  },
  "language_info": {
   "codemirror_mode": {
    "name": "ipython",
    "version": 3
   },
   "file_extension": ".py",
   "mimetype": "text/x-python",
   "name": "python",
   "nbconvert_exporter": "python",
   "pygments_lexer": "ipython3",
   "version": "3.7.7"
  },
  "toc": {
   "base_numbering": 1,
   "nav_menu": {},
   "number_sections": true,
   "sideBar": true,
   "skip_h1_title": false,
   "title_cell": "Table of Contents",
   "title_sidebar": "Contents",
   "toc_cell": false,
   "toc_position": {},
   "toc_section_display": true,
   "toc_window_display": false
  }
 },
 "nbformat": 4,
 "nbformat_minor": 4
}
